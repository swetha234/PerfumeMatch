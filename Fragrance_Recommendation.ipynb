{
  "nbformat": 4,
  "nbformat_minor": 0,
  "metadata": {
    "colab": {
      "name": "Fragrance Recommendation.ipynb",
      "provenance": [],
      "collapsed_sections": [],
      "toc_visible": true,
      "machine_shape": "hm"
    },
    "kernelspec": {
      "name": "python3",
      "display_name": "Python 3"
    }
  },
  "cells": [
    {
      "cell_type": "markdown",
      "metadata": {
        "id": "8Fmqck6Bqp2X",
        "colab_type": "text"
      },
      "source": [
        "#Project Title: Recommendation System for Perfume \n",
        "\n",
        "###Abstract\n",
        "Fragrance is not only about scent, it tells your personality, or the impression you want to leave on people. Every person has a different taste and will like distinct scents. So, this is what I’m doing to find and recommend the flawless perfume that matches one’s choice.\n",
        "\n",
        "###Objective\n",
        "Build a recommendation system that helps the customers to find perfumes that corresponds to their personality.\n",
        "\n",
        "###Details of the Data\n",
        "Initially I searched a lot for a dataset but could not find any that matched the features I wanted. So, the best option I found was to web-scrape a fragrance website and get the data. The website I chose for this is  https://www.fragrancenet.com/ni/fragrances?f=1f!3D/1f!6. \n",
        "\n",
        "The data I scraped from this website are two tables. One table consists of perfume data which includes:\n",
        "* Brand of the perfume\n",
        "* Perfume Name\n",
        "* Notes of the Perfume\n",
        "* Gender (Male/Female/Unisex)\n",
        "*\tCategory (EDT, EDP, Perfume etc.)\n",
        "* Recommended Time \n",
        "*\tYear Introduced (when was the perfume released into the market)\n",
        "\n",
        "The second table is user rating data(yet to get the data, it had 8000+ reviews and was taking time to load, will update in 1 or 2 days ):\n",
        "*\tRating value: 0-5\n",
        "*\tReview\n",
        "*\tCustomer_id\n",
        "\n",
        "This is the data I tried and achieved to scrape till now, I will scrape few more features in future if required. \n",
        "\n",
        "\n",
        "###Design Flow\n",
        "\n",
        "These are the things I would like to perform to achieve results:\n",
        "\t\n",
        "\n",
        "*   Web scraping\n",
        "*   Data Preprocessing\n",
        "*   EDA (Exploratory Data Analysis)\n",
        "* \tData visualization\n",
        "* \tData modeling\n",
        "* \tModel evaluation\n",
        "\n",
        "\n",
        "\n",
        "\n",
        "\n",
        "\n",
        "\n",
        "\n",
        "\n",
        "\n",
        "\n",
        "\t\t\n",
        "\t\n",
        "\n",
        "\n",
        "\n"
      ]
    },
    {
      "cell_type": "code",
      "metadata": {
        "id": "GYUD2QfJJIrQ",
        "colab_type": "code",
        "outputId": "211491a6-982e-4df0-c22e-f16083036f34",
        "colab": {
          "base_uri": "https://localhost:8080/",
          "height": 118
        }
      },
      "source": [
        "from google.colab import drive\n",
        "drive.mount('/content/drive')"
      ],
      "execution_count": 0,
      "outputs": [
        {
          "output_type": "stream",
          "text": [
            "Go to this URL in a browser: https://accounts.google.com/o/oauth2/auth?client_id=947318989803-6bn6qk8qdgf4n4g3pfee6491hc0brc4i.apps.googleusercontent.com&redirect_uri=urn%3Aietf%3Awg%3Aoauth%3A2.0%3Aoob&scope=email%20https%3A%2F%2Fwww.googleapis.com%2Fauth%2Fdocs.test%20https%3A%2F%2Fwww.googleapis.com%2Fauth%2Fdrive%20https%3A%2F%2Fwww.googleapis.com%2Fauth%2Fdrive.photos.readonly%20https%3A%2F%2Fwww.googleapis.com%2Fauth%2Fpeopleapi.readonly&response_type=code\n",
            "\n",
            "Enter your authorization code:\n",
            "··········\n",
            "Mounted at /content/drive\n"
          ],
          "name": "stdout"
        }
      ]
    },
    {
      "cell_type": "code",
      "metadata": {
        "id": "cERyLW8vgOv2",
        "colab_type": "code",
        "colab": {}
      },
      "source": [
        "\n",
        "#url = 'https://www.fragrancenet.com/perfume'\n",
        "import pandas as pd\n",
        "import requests\n",
        "from bs4 import BeautifulSoup\n",
        "import csv\n",
        "import math\n",
        "\n",
        "def getPerfumeData():\n",
        "    perfume_id =0\n",
        "    perfumeUrls = []\n",
        "    with open('eg.csv', 'w', newline='') as csvfile:\n",
        "        fieldnames = ['Id','Brand', 'Category', 'Name', 'Rating','Gender','Notes','Recommended Time','Year','Perfume Url']\n",
        "        writer = csv.DictWriter(csvfile, fieldnames=fieldnames)\n",
        "        writer.writeheader()\n",
        "        for i in range(1, 364):\n",
        "            print(i)\n",
        "            url = \"https://www.fragrancenet.com/ni/fragrances?f=1f!3D/1f!6R/1f!do?&page=\"+ str(i)\n",
        "            res = requests.get(url)\n",
        "            soup = BeautifulSoup(res.content, 'lxml')\n",
        "            allDivs = soup.findAll('div',attrs= {'class' : 'resultItem heightSync'})\n",
        "            for div in allDivs:\n",
        "                perfume_id +=1\n",
        "                link= div.find('a')\n",
        "                linktoperfume = link.get('href')\n",
        "\n",
        "                perfumeDict={}\n",
        "                perfumeDict[\"id\"]=perfume_id\n",
        "                perfumeDict[\"url\"]=linktoperfume\n",
        "                perfumeUrls.append(perfumeDict)\n",
        "\n",
        "                name = div.find(\"span\", {\"itemprop\" : \"name\"}).text\n",
        "                if (div.find('div',{'class':'starRating'})):\n",
        "                    rating =div.find('div',{'class':'starRating'})[\"data-score\"]\n",
        "                else:\n",
        "                    rating =None\n",
        "\n",
        "                secondDiv = div.find(\"div\")\n",
        "                pTag_brand = secondDiv.find('p',{'class':'des'})\n",
        "                if(pTag_brand):\n",
        "                    brand = pTag_brand.find('a').text\n",
        "                else:\n",
        "                    brand = secondDiv.find('a').text\n",
        "                pTag_cat=secondDiv.find('p',{'class':'desc'})\n",
        "                category = pTag_cat.find('a').text\n",
        "                itag_women = secondDiv.find('i',{'class':'gender_womens'})\n",
        "                itag_unisex = secondDiv.find('i',{'class':'gender_unisex'})\n",
        "                itag_men = secondDiv.find('i',{'class':'gender_mens'})\n",
        "                if(itag_women):\n",
        "                    gender = 'women'\n",
        "                elif(itag_unisex):\n",
        "                    gender = 'unisex'\n",
        "                elif(itag_men):\n",
        "                    gender = 'men'\n",
        "\n",
        "                res1 = requests.get(linktoperfume)\n",
        "            \n",
        "                soup2= BeautifulSoup(res1.content, 'lxml')\n",
        "                thirdDiv = soup2.findAll('div',{'class' : 'tab-content'})\n",
        "                for div in thirdDiv:\n",
        "                    Notes= None\n",
        "                    recommendedTime= None\n",
        "                    Year= None\n",
        "                    if(div.find('ul',{'class':'notes cf' })):\n",
        "                        notesDiv= div.find('ul',{'class':'notes cf' })\n",
        "                        for li in notesDiv.findAll('li'):\n",
        "                            if li.findAll('span')[0].text==\"Fragrance Notes:\":\n",
        "                                Notes = li.findAll('span')[1].text\n",
        "                            if li.findAll('span')[0].text==\"Recommended Use:\":\n",
        "                                recommendedTime = li.findAll('span')[1].text\n",
        "                            if li.findAll('span')[0].text==\"Year Introduced:\":\n",
        "                                Year = li.findAll('span')[1].text\n",
        "                writer.writerow({'Id': perfume_id, 'Brand': brand,'Category': category,'Name': name,'Rating': rating,'Gender': gender,'Notes': Notes,'Recommended Time':recommendedTime ,'Year':Year,'Perfume Url':linktoperfume})\n",
        "\n",
        "    return perfumeUrls\n",
        "\n",
        "def getReviews(perfumeUrls):\n",
        "    with open('reviews.csv', 'w', newline='') as csvfile:\n",
        "        fieldnames = ['Id','Review', 'Rating']\n",
        "        writer = csv.DictWriter(csvfile, fieldnames=fieldnames)\n",
        "        writer.writeheader()\n",
        "        for perfumeUrl in perfumeUrls:\n",
        "            print(perfumeUrl[\"id\"])\n",
        "            res1 = requests.get(perfumeUrl[\"url\"])\n",
        "            soup2= BeautifulSoup(res1.content, 'lxml')\n",
        "            reviewCount = soup2.find('li', {\"id\": \"reviewTab\"}).text\n",
        "            reviewCount = reviewCount.replace(\"Reviews\", \"\")\n",
        "            reviewCount =reviewCount.replace(\" \", \"\")\n",
        "            reviewCount =reviewCount.replace(\"(\", \"\")\n",
        "            reviewCount =reviewCount.replace(\")\", \"\")\n",
        "\n",
        "            reviewPages= math.ceil(int(reviewCount)/5)\n",
        "            thirdDiv = soup2.findAll('div',{'class' : 'tab-content'})\n",
        "\n",
        "            for div in thirdDiv:\n",
        "                if(div.findAll('div',{'class': 'review'})):\n",
        "                    reviews =div.findAll('div',{'class': 'review'})\n",
        "                    for review in reviews:\n",
        "                        reviewText = review.find('p',{'class': 'text'}).text\n",
        "                        if (review('div',{'class':'starRating'})):\n",
        "                            reviewRating =review.find('div',{'class': 'starRating'})[\"data-score\"]\n",
        "                        writer.writerow({'Id': perfumeUrl[\"id\"], 'Review': reviewText,'Rating': reviewRating})\n",
        "perfumeUrls=getPerfumeData()\n",
        "getReviews(perfumeUrls)\n",
        "\n"
      ],
      "execution_count": 0,
      "outputs": []
    },
    {
      "cell_type": "markdown",
      "metadata": {
        "id": "Mwe2h29xpBXz",
        "colab_type": "text"
      },
      "source": [
        "Importing the CSV files which I have Web scraped"
      ]
    },
    {
      "cell_type": "code",
      "metadata": {
        "id": "0_vU18toKBWA",
        "colab_type": "code",
        "outputId": "74ee1c07-65d9-4b6f-bd53-91bc19c8f5f8",
        "colab": {
          "base_uri": "https://localhost:8080/",
          "height": 288
        }
      },
      "source": [
        "import pandas as pd \n",
        "import warnings\n",
        "warnings.filterwarnings('ignore')\n",
        "import matplotlib\n",
        "import matplotlib.pyplot as plt\n",
        "import matplotlib.font_manager as fm\n",
        "import seaborn as sn\n",
        "\n",
        "from pandas.plotting import scatter_matrix\n",
        "\n",
        "%matplotlib inline\n",
        "\n",
        "#Loading data\n",
        "perfume = pd.read_csv('/content/drive/My Drive/Perfume Dataset/perfumes.csv', sep=',', error_bad_lines = False, encoding=\"latin-1\")\n",
        "\n",
        "perfume.columns=['Id','Brand','Category','Name','Rating','Gender','Notes','Recommended Time','Year','Perfume url']\n",
        "\n",
        "perfume.head()\n"
      ],
      "execution_count": 0,
      "outputs": [
        {
          "output_type": "execute_result",
          "data": {
            "text/html": [
              "<div>\n",
              "<style scoped>\n",
              "    .dataframe tbody tr th:only-of-type {\n",
              "        vertical-align: middle;\n",
              "    }\n",
              "\n",
              "    .dataframe tbody tr th {\n",
              "        vertical-align: top;\n",
              "    }\n",
              "\n",
              "    .dataframe thead th {\n",
              "        text-align: right;\n",
              "    }\n",
              "</style>\n",
              "<table border=\"1\" class=\"dataframe\">\n",
              "  <thead>\n",
              "    <tr style=\"text-align: right;\">\n",
              "      <th></th>\n",
              "      <th>Id</th>\n",
              "      <th>Brand</th>\n",
              "      <th>Category</th>\n",
              "      <th>Name</th>\n",
              "      <th>Rating</th>\n",
              "      <th>Gender</th>\n",
              "      <th>Notes</th>\n",
              "      <th>Recommended Time</th>\n",
              "      <th>Year</th>\n",
              "      <th>Perfume url</th>\n",
              "    </tr>\n",
              "  </thead>\n",
              "  <tbody>\n",
              "    <tr>\n",
              "      <th>0</th>\n",
              "      <td>1</td>\n",
              "      <td>Dolce &amp; Gabbana</td>\n",
              "      <td>eau de toilette</td>\n",
              "      <td>D &amp; G Light Blue</td>\n",
              "      <td>4.847</td>\n",
              "      <td>women</td>\n",
              "      <td>Apple, Cedar, Bellflower, Sicilian lemon, Whit...</td>\n",
              "      <td>casual</td>\n",
              "      <td>2001</td>\n",
              "      <td>https://www.fragrancenet.com/perfume/dolce-and...</td>\n",
              "    </tr>\n",
              "    <tr>\n",
              "      <th>1</th>\n",
              "      <td>2</td>\n",
              "      <td>Giorgio Armani</td>\n",
              "      <td>eau de toilette</td>\n",
              "      <td>Acqua Di Gio</td>\n",
              "      <td>4.872</td>\n",
              "      <td>men</td>\n",
              "      <td>Orange, Lime, Jasmine, Bergamot, Neroli</td>\n",
              "      <td>casual</td>\n",
              "      <td>1996</td>\n",
              "      <td>https://www.fragrancenet.com/cologne/giorgio-a...</td>\n",
              "    </tr>\n",
              "    <tr>\n",
              "      <th>2</th>\n",
              "      <td>3</td>\n",
              "      <td>Davidoff</td>\n",
              "      <td>eau de toilette</td>\n",
              "      <td>Cool Water</td>\n",
              "      <td>4.682</td>\n",
              "      <td>men</td>\n",
              "      <td>Rosemary, Mint, Sandalwood, Lavender, Cedar</td>\n",
              "      <td>daytime</td>\n",
              "      <td>2016</td>\n",
              "      <td>https://www.fragrancenet.com/cologne/davidoff/...</td>\n",
              "    </tr>\n",
              "    <tr>\n",
              "      <th>3</th>\n",
              "      <td>4</td>\n",
              "      <td>Juicy Couture</td>\n",
              "      <td>eau de parfum</td>\n",
              "      <td>Viva La Juicy</td>\n",
              "      <td>4.781</td>\n",
              "      <td>women</td>\n",
              "      <td>Mandarin orange, Wild berries, Honeysuckle, Ga...</td>\n",
              "      <td>casual</td>\n",
              "      <td>2008</td>\n",
              "      <td>https://www.fragrancenet.com/perfume/juicy-cou...</td>\n",
              "    </tr>\n",
              "    <tr>\n",
              "      <th>4</th>\n",
              "      <td>5</td>\n",
              "      <td>Calvin Klein</td>\n",
              "      <td>eau de toilette</td>\n",
              "      <td>Eternity</td>\n",
              "      <td>4.719</td>\n",
              "      <td>men</td>\n",
              "      <td>Lavender, Mandarin orange, Bergamot, Lemon, Co...</td>\n",
              "      <td>daytime</td>\n",
              "      <td>1990</td>\n",
              "      <td>https://www.fragrancenet.com/cologne/calvin-kl...</td>\n",
              "    </tr>\n",
              "  </tbody>\n",
              "</table>\n",
              "</div>"
            ],
            "text/plain": [
              "   Id            Brand  ...  Year                                        Perfume url\n",
              "0   1  Dolce & Gabbana  ...  2001  https://www.fragrancenet.com/perfume/dolce-and...\n",
              "1   2   Giorgio Armani  ...  1996  https://www.fragrancenet.com/cologne/giorgio-a...\n",
              "2   3         Davidoff  ...  2016  https://www.fragrancenet.com/cologne/davidoff/...\n",
              "3   4    Juicy Couture  ...  2008  https://www.fragrancenet.com/perfume/juicy-cou...\n",
              "4   5     Calvin Klein  ...  1990  https://www.fragrancenet.com/cologne/calvin-kl...\n",
              "\n",
              "[5 rows x 10 columns]"
            ]
          },
          "metadata": {
            "tags": []
          },
          "execution_count": 2
        }
      ]
    },
    {
      "cell_type": "code",
      "metadata": {
        "id": "xi0gTMYA9-hL",
        "colab_type": "code",
        "outputId": "24109ddb-e2f9-4b39-859c-9a88c610727d",
        "colab": {
          "base_uri": "https://localhost:8080/",
          "height": 33
        }
      },
      "source": [
        "perfume.shape"
      ],
      "execution_count": 0,
      "outputs": [
        {
          "output_type": "execute_result",
          "data": {
            "text/plain": [
              "(8327, 10)"
            ]
          },
          "metadata": {
            "tags": []
          },
          "execution_count": 3
        }
      ]
    },
    {
      "cell_type": "code",
      "metadata": {
        "id": "H0Gd11yV13uZ",
        "colab_type": "code",
        "colab": {}
      },
      "source": [
        ""
      ],
      "execution_count": 0,
      "outputs": []
    },
    {
      "cell_type": "code",
      "metadata": {
        "id": "Ly4u0TyJKKuB",
        "colab_type": "code",
        "outputId": "36fa151b-5e2c-4ab9-a449-effa1c18929b",
        "colab": {
          "base_uri": "https://localhost:8080/",
          "height": 191
        }
      },
      "source": [
        "import pandas as pd\n",
        "import warnings\n",
        "warnings.filterwarnings('ignore')\n",
        "\n",
        "\n",
        "#Loading data\n",
        "review = pd.read_csv('/content/drive/My Drive/reviews.csv', sep=',', error_bad_lines = False, encoding=\"latin-1\")\n",
        "\n",
        "review.columns=['Id','Review','Rating']\n",
        "\n",
        "review.head()"
      ],
      "execution_count": 0,
      "outputs": [
        {
          "output_type": "execute_result",
          "data": {
            "text/html": [
              "<div>\n",
              "<style scoped>\n",
              "    .dataframe tbody tr th:only-of-type {\n",
              "        vertical-align: middle;\n",
              "    }\n",
              "\n",
              "    .dataframe tbody tr th {\n",
              "        vertical-align: top;\n",
              "    }\n",
              "\n",
              "    .dataframe thead th {\n",
              "        text-align: right;\n",
              "    }\n",
              "</style>\n",
              "<table border=\"1\" class=\"dataframe\">\n",
              "  <thead>\n",
              "    <tr style=\"text-align: right;\">\n",
              "      <th></th>\n",
              "      <th>Id</th>\n",
              "      <th>Review</th>\n",
              "      <th>Rating</th>\n",
              "    </tr>\n",
              "  </thead>\n",
              "  <tbody>\n",
              "    <tr>\n",
              "      <th>0</th>\n",
              "      <td>1</td>\n",
              "      <td>Love this perfume!! Love your prices I'll cont...</td>\n",
              "      <td>5</td>\n",
              "    </tr>\n",
              "    <tr>\n",
              "      <th>1</th>\n",
              "      <td>1</td>\n",
              "      <td>The eternity is the only one I bought and I lo...</td>\n",
              "      <td>5</td>\n",
              "    </tr>\n",
              "    <tr>\n",
              "      <th>2</th>\n",
              "      <td>1</td>\n",
              "      <td>This is the best smelling perfume ever! BEST P...</td>\n",
              "      <td>5</td>\n",
              "    </tr>\n",
              "    <tr>\n",
              "      <th>3</th>\n",
              "      <td>1</td>\n",
              "      <td>Great product for a great price</td>\n",
              "      <td>5</td>\n",
              "    </tr>\n",
              "    <tr>\n",
              "      <th>4</th>\n",
              "      <td>1</td>\n",
              "      <td>D &amp; G Light Blue by Dolce &amp; Gabbana Very fresh...</td>\n",
              "      <td>5</td>\n",
              "    </tr>\n",
              "  </tbody>\n",
              "</table>\n",
              "</div>"
            ],
            "text/plain": [
              "   Id                                             Review  Rating\n",
              "0   1  Love this perfume!! Love your prices I'll cont...       5\n",
              "1   1  The eternity is the only one I bought and I lo...       5\n",
              "2   1  This is the best smelling perfume ever! BEST P...       5\n",
              "3   1                    Great product for a great price       5\n",
              "4   1  D & G Light Blue by Dolce & Gabbana Very fresh...       5"
            ]
          },
          "metadata": {
            "tags": []
          },
          "execution_count": 5
        }
      ]
    },
    {
      "cell_type": "markdown",
      "metadata": {
        "id": "n8qNP-8co686",
        "colab_type": "text"
      },
      "source": [
        "Cleaning the perfume data\n"
      ]
    },
    {
      "cell_type": "code",
      "metadata": {
        "id": "p95fUXJM723v",
        "colab_type": "code",
        "outputId": "3eade581-dee9-4bd5-f96e-34956fbe2b7f",
        "colab": {
          "base_uri": "https://localhost:8080/",
          "height": 396
        }
      },
      "source": [
        "perfume.describe(include='all')"
      ],
      "execution_count": 0,
      "outputs": [
        {
          "output_type": "execute_result",
          "data": {
            "text/html": [
              "<div>\n",
              "<style scoped>\n",
              "    .dataframe tbody tr th:only-of-type {\n",
              "        vertical-align: middle;\n",
              "    }\n",
              "\n",
              "    .dataframe tbody tr th {\n",
              "        vertical-align: top;\n",
              "    }\n",
              "\n",
              "    .dataframe thead th {\n",
              "        text-align: right;\n",
              "    }\n",
              "</style>\n",
              "<table border=\"1\" class=\"dataframe\">\n",
              "  <thead>\n",
              "    <tr style=\"text-align: right;\">\n",
              "      <th></th>\n",
              "      <th>Id</th>\n",
              "      <th>Brand</th>\n",
              "      <th>Category</th>\n",
              "      <th>Name</th>\n",
              "      <th>Rating</th>\n",
              "      <th>Gender</th>\n",
              "      <th>Notes</th>\n",
              "      <th>Recommended Time</th>\n",
              "      <th>Year</th>\n",
              "      <th>Perfume url</th>\n",
              "    </tr>\n",
              "  </thead>\n",
              "  <tbody>\n",
              "    <tr>\n",
              "      <th>count</th>\n",
              "      <td>8327.000000</td>\n",
              "      <td>8327</td>\n",
              "      <td>8327</td>\n",
              "      <td>8327</td>\n",
              "      <td>3546.000000</td>\n",
              "      <td>8327</td>\n",
              "      <td>5504</td>\n",
              "      <td>3100</td>\n",
              "      <td>5487</td>\n",
              "      <td>8327</td>\n",
              "    </tr>\n",
              "    <tr>\n",
              "      <th>unique</th>\n",
              "      <td>NaN</td>\n",
              "      <td>658</td>\n",
              "      <td>940</td>\n",
              "      <td>5570</td>\n",
              "      <td>NaN</td>\n",
              "      <td>3</td>\n",
              "      <td>3453</td>\n",
              "      <td>7</td>\n",
              "      <td>102</td>\n",
              "      <td>8279</td>\n",
              "    </tr>\n",
              "    <tr>\n",
              "      <th>top</th>\n",
              "      <td>NaN</td>\n",
              "      <td>Guerlain</td>\n",
              "      <td>eau de toilette</td>\n",
              "      <td>4711 Acqua Colonia</td>\n",
              "      <td>NaN</td>\n",
              "      <td>women</td>\n",
              "      <td>Lemon Balm, Lemon Verbena</td>\n",
              "      <td>casual</td>\n",
              "      <td>2014</td>\n",
              "      <td>https://www.fragrancenet.com/cologne/jean-loui...</td>\n",
              "    </tr>\n",
              "    <tr>\n",
              "      <th>freq</th>\n",
              "      <td>NaN</td>\n",
              "      <td>112</td>\n",
              "      <td>2750</td>\n",
              "      <td>28</td>\n",
              "      <td>NaN</td>\n",
              "      <td>4761</td>\n",
              "      <td>26</td>\n",
              "      <td>1433</td>\n",
              "      <td>439</td>\n",
              "      <td>2</td>\n",
              "    </tr>\n",
              "    <tr>\n",
              "      <th>mean</th>\n",
              "      <td>4164.000000</td>\n",
              "      <td>NaN</td>\n",
              "      <td>NaN</td>\n",
              "      <td>NaN</td>\n",
              "      <td>4.681185</td>\n",
              "      <td>NaN</td>\n",
              "      <td>NaN</td>\n",
              "      <td>NaN</td>\n",
              "      <td>NaN</td>\n",
              "      <td>NaN</td>\n",
              "    </tr>\n",
              "    <tr>\n",
              "      <th>std</th>\n",
              "      <td>2403.942179</td>\n",
              "      <td>NaN</td>\n",
              "      <td>NaN</td>\n",
              "      <td>NaN</td>\n",
              "      <td>0.573853</td>\n",
              "      <td>NaN</td>\n",
              "      <td>NaN</td>\n",
              "      <td>NaN</td>\n",
              "      <td>NaN</td>\n",
              "      <td>NaN</td>\n",
              "    </tr>\n",
              "    <tr>\n",
              "      <th>min</th>\n",
              "      <td>1.000000</td>\n",
              "      <td>NaN</td>\n",
              "      <td>NaN</td>\n",
              "      <td>NaN</td>\n",
              "      <td>1.000000</td>\n",
              "      <td>NaN</td>\n",
              "      <td>NaN</td>\n",
              "      <td>NaN</td>\n",
              "      <td>NaN</td>\n",
              "      <td>NaN</td>\n",
              "    </tr>\n",
              "    <tr>\n",
              "      <th>25%</th>\n",
              "      <td>2082.500000</td>\n",
              "      <td>NaN</td>\n",
              "      <td>NaN</td>\n",
              "      <td>NaN</td>\n",
              "      <td>4.583000</td>\n",
              "      <td>NaN</td>\n",
              "      <td>NaN</td>\n",
              "      <td>NaN</td>\n",
              "      <td>NaN</td>\n",
              "      <td>NaN</td>\n",
              "    </tr>\n",
              "    <tr>\n",
              "      <th>50%</th>\n",
              "      <td>4164.000000</td>\n",
              "      <td>NaN</td>\n",
              "      <td>NaN</td>\n",
              "      <td>NaN</td>\n",
              "      <td>4.941500</td>\n",
              "      <td>NaN</td>\n",
              "      <td>NaN</td>\n",
              "      <td>NaN</td>\n",
              "      <td>NaN</td>\n",
              "      <td>NaN</td>\n",
              "    </tr>\n",
              "    <tr>\n",
              "      <th>75%</th>\n",
              "      <td>6245.500000</td>\n",
              "      <td>NaN</td>\n",
              "      <td>NaN</td>\n",
              "      <td>NaN</td>\n",
              "      <td>5.000000</td>\n",
              "      <td>NaN</td>\n",
              "      <td>NaN</td>\n",
              "      <td>NaN</td>\n",
              "      <td>NaN</td>\n",
              "      <td>NaN</td>\n",
              "    </tr>\n",
              "    <tr>\n",
              "      <th>max</th>\n",
              "      <td>8327.000000</td>\n",
              "      <td>NaN</td>\n",
              "      <td>NaN</td>\n",
              "      <td>NaN</td>\n",
              "      <td>5.000000</td>\n",
              "      <td>NaN</td>\n",
              "      <td>NaN</td>\n",
              "      <td>NaN</td>\n",
              "      <td>NaN</td>\n",
              "      <td>NaN</td>\n",
              "    </tr>\n",
              "  </tbody>\n",
              "</table>\n",
              "</div>"
            ],
            "text/plain": [
              "                 Id  ...                                        Perfume url\n",
              "count   8327.000000  ...                                               8327\n",
              "unique          NaN  ...                                               8279\n",
              "top             NaN  ...  https://www.fragrancenet.com/cologne/jean-loui...\n",
              "freq            NaN  ...                                                  2\n",
              "mean    4164.000000  ...                                                NaN\n",
              "std     2403.942179  ...                                                NaN\n",
              "min        1.000000  ...                                                NaN\n",
              "25%     2082.500000  ...                                                NaN\n",
              "50%     4164.000000  ...                                                NaN\n",
              "75%     6245.500000  ...                                                NaN\n",
              "max     8327.000000  ...                                                NaN\n",
              "\n",
              "[11 rows x 10 columns]"
            ]
          },
          "metadata": {
            "tags": []
          },
          "execution_count": 4
        }
      ]
    },
    {
      "cell_type": "code",
      "metadata": {
        "id": "vJq5BKSDe4vv",
        "colab_type": "code",
        "outputId": "180d1e6b-e748-4721-a823-c3bc2b8f4669",
        "colab": {
          "base_uri": "https://localhost:8080/",
          "height": 363
        }
      },
      "source": [
        "review.describe(include='all')"
      ],
      "execution_count": 0,
      "outputs": [
        {
          "output_type": "execute_result",
          "data": {
            "text/html": [
              "<div>\n",
              "<style scoped>\n",
              "    .dataframe tbody tr th:only-of-type {\n",
              "        vertical-align: middle;\n",
              "    }\n",
              "\n",
              "    .dataframe tbody tr th {\n",
              "        vertical-align: top;\n",
              "    }\n",
              "\n",
              "    .dataframe thead th {\n",
              "        text-align: right;\n",
              "    }\n",
              "</style>\n",
              "<table border=\"1\" class=\"dataframe\">\n",
              "  <thead>\n",
              "    <tr style=\"text-align: right;\">\n",
              "      <th></th>\n",
              "      <th>Id</th>\n",
              "      <th>Review</th>\n",
              "      <th>Rating</th>\n",
              "    </tr>\n",
              "  </thead>\n",
              "  <tbody>\n",
              "    <tr>\n",
              "      <th>count</th>\n",
              "      <td>11585.000000</td>\n",
              "      <td>11585</td>\n",
              "      <td>11585.000000</td>\n",
              "    </tr>\n",
              "    <tr>\n",
              "      <th>unique</th>\n",
              "      <td>NaN</td>\n",
              "      <td>11424</td>\n",
              "      <td>NaN</td>\n",
              "    </tr>\n",
              "    <tr>\n",
              "      <th>top</th>\n",
              "      <td>NaN</td>\n",
              "      <td>I LOVE LOVE LOVE LOVE LOVE IT VERY MUCH I'M GO...</td>\n",
              "      <td>NaN</td>\n",
              "    </tr>\n",
              "    <tr>\n",
              "      <th>freq</th>\n",
              "      <td>NaN</td>\n",
              "      <td>5</td>\n",
              "      <td>NaN</td>\n",
              "    </tr>\n",
              "    <tr>\n",
              "      <th>mean</th>\n",
              "      <td>1636.789555</td>\n",
              "      <td>NaN</td>\n",
              "      <td>4.683902</td>\n",
              "    </tr>\n",
              "    <tr>\n",
              "      <th>std</th>\n",
              "      <td>1366.873930</td>\n",
              "      <td>NaN</td>\n",
              "      <td>0.821544</td>\n",
              "    </tr>\n",
              "    <tr>\n",
              "      <th>min</th>\n",
              "      <td>1.000000</td>\n",
              "      <td>NaN</td>\n",
              "      <td>1.000000</td>\n",
              "    </tr>\n",
              "    <tr>\n",
              "      <th>25%</th>\n",
              "      <td>588.000000</td>\n",
              "      <td>NaN</td>\n",
              "      <td>5.000000</td>\n",
              "    </tr>\n",
              "    <tr>\n",
              "      <th>50%</th>\n",
              "      <td>1279.000000</td>\n",
              "      <td>NaN</td>\n",
              "      <td>5.000000</td>\n",
              "    </tr>\n",
              "    <tr>\n",
              "      <th>75%</th>\n",
              "      <td>2309.000000</td>\n",
              "      <td>NaN</td>\n",
              "      <td>5.000000</td>\n",
              "    </tr>\n",
              "    <tr>\n",
              "      <th>max</th>\n",
              "      <td>6379.000000</td>\n",
              "      <td>NaN</td>\n",
              "      <td>5.000000</td>\n",
              "    </tr>\n",
              "  </tbody>\n",
              "</table>\n",
              "</div>"
            ],
            "text/plain": [
              "                  Id  ...        Rating\n",
              "count   11585.000000  ...  11585.000000\n",
              "unique           NaN  ...           NaN\n",
              "top              NaN  ...           NaN\n",
              "freq             NaN  ...           NaN\n",
              "mean     1636.789555  ...      4.683902\n",
              "std      1366.873930  ...      0.821544\n",
              "min         1.000000  ...      1.000000\n",
              "25%       588.000000  ...      5.000000\n",
              "50%      1279.000000  ...      5.000000\n",
              "75%      2309.000000  ...      5.000000\n",
              "max      6379.000000  ...      5.000000\n",
              "\n",
              "[11 rows x 3 columns]"
            ]
          },
          "metadata": {
            "tags": []
          },
          "execution_count": 7
        }
      ]
    },
    {
      "cell_type": "code",
      "metadata": {
        "id": "FLfSMuw9FhGt",
        "colab_type": "code",
        "outputId": "d7947725-73b0-4eb4-c2a3-f27b9e54db76",
        "colab": {
          "base_uri": "https://localhost:8080/",
          "height": 261
        }
      },
      "source": [
        "perfume.info()"
      ],
      "execution_count": 0,
      "outputs": [
        {
          "output_type": "stream",
          "text": [
            "<class 'pandas.core.frame.DataFrame'>\n",
            "RangeIndex: 8327 entries, 0 to 8326\n",
            "Data columns (total 10 columns):\n",
            "Id                  8327 non-null int64\n",
            "Brand               8327 non-null object\n",
            "Category            8327 non-null object\n",
            "Name                8327 non-null object\n",
            "Rating              3546 non-null float64\n",
            "Gender              8327 non-null object\n",
            "Notes               5504 non-null object\n",
            "Recommended Time    3100 non-null object\n",
            "Year                5487 non-null object\n",
            "Perfume url         8327 non-null object\n",
            "dtypes: float64(1), int64(1), object(8)\n",
            "memory usage: 650.6+ KB\n"
          ],
          "name": "stdout"
        }
      ]
    },
    {
      "cell_type": "code",
      "metadata": {
        "id": "xdiFEpjyBBRD",
        "colab_type": "code",
        "colab": {}
      },
      "source": [
        "perfume =perfume.drop_duplicates('Id')"
      ],
      "execution_count": 0,
      "outputs": []
    },
    {
      "cell_type": "code",
      "metadata": {
        "id": "ldpBi7wMBWri",
        "colab_type": "code",
        "colab": {}
      },
      "source": [
        "perfume.set_index(perfume['Id'], inplace =True)"
      ],
      "execution_count": 0,
      "outputs": []
    },
    {
      "cell_type": "code",
      "metadata": {
        "id": "MxScHoEZ5Dsy",
        "colab_type": "code",
        "outputId": "9481c4bc-5bd0-4d41-fce3-4153d385f6d8",
        "colab": {
          "base_uri": "https://localhost:8080/",
          "height": 220
        }
      },
      "source": [
        "perfume = perfume.drop(columns=\"Perfume url\")\n",
        "\n",
        "perfume.head()"
      ],
      "execution_count": 0,
      "outputs": [
        {
          "output_type": "execute_result",
          "data": {
            "text/html": [
              "<div>\n",
              "<style scoped>\n",
              "    .dataframe tbody tr th:only-of-type {\n",
              "        vertical-align: middle;\n",
              "    }\n",
              "\n",
              "    .dataframe tbody tr th {\n",
              "        vertical-align: top;\n",
              "    }\n",
              "\n",
              "    .dataframe thead th {\n",
              "        text-align: right;\n",
              "    }\n",
              "</style>\n",
              "<table border=\"1\" class=\"dataframe\">\n",
              "  <thead>\n",
              "    <tr style=\"text-align: right;\">\n",
              "      <th></th>\n",
              "      <th>Id</th>\n",
              "      <th>Brand</th>\n",
              "      <th>Category</th>\n",
              "      <th>Name</th>\n",
              "      <th>Rating</th>\n",
              "      <th>Gender</th>\n",
              "      <th>Notes</th>\n",
              "      <th>Recommended Time</th>\n",
              "      <th>Year</th>\n",
              "    </tr>\n",
              "    <tr>\n",
              "      <th>Id</th>\n",
              "      <th></th>\n",
              "      <th></th>\n",
              "      <th></th>\n",
              "      <th></th>\n",
              "      <th></th>\n",
              "      <th></th>\n",
              "      <th></th>\n",
              "      <th></th>\n",
              "      <th></th>\n",
              "    </tr>\n",
              "  </thead>\n",
              "  <tbody>\n",
              "    <tr>\n",
              "      <th>1</th>\n",
              "      <td>1</td>\n",
              "      <td>Dolce &amp; Gabbana</td>\n",
              "      <td>eau de toilette</td>\n",
              "      <td>D &amp; G Light Blue</td>\n",
              "      <td>4.847</td>\n",
              "      <td>women</td>\n",
              "      <td>Apple, Cedar, Bellflower, Sicilian lemon, Whit...</td>\n",
              "      <td>casual</td>\n",
              "      <td>2001</td>\n",
              "    </tr>\n",
              "    <tr>\n",
              "      <th>2</th>\n",
              "      <td>2</td>\n",
              "      <td>Giorgio Armani</td>\n",
              "      <td>eau de toilette</td>\n",
              "      <td>Acqua Di Gio</td>\n",
              "      <td>4.872</td>\n",
              "      <td>men</td>\n",
              "      <td>Orange, Lime, Jasmine, Bergamot, Neroli</td>\n",
              "      <td>casual</td>\n",
              "      <td>1996</td>\n",
              "    </tr>\n",
              "    <tr>\n",
              "      <th>3</th>\n",
              "      <td>3</td>\n",
              "      <td>Davidoff</td>\n",
              "      <td>eau de toilette</td>\n",
              "      <td>Cool Water</td>\n",
              "      <td>4.682</td>\n",
              "      <td>men</td>\n",
              "      <td>Rosemary, Mint, Sandalwood, Lavender, Cedar</td>\n",
              "      <td>daytime</td>\n",
              "      <td>2016</td>\n",
              "    </tr>\n",
              "    <tr>\n",
              "      <th>4</th>\n",
              "      <td>4</td>\n",
              "      <td>Juicy Couture</td>\n",
              "      <td>eau de parfum</td>\n",
              "      <td>Viva La Juicy</td>\n",
              "      <td>4.781</td>\n",
              "      <td>women</td>\n",
              "      <td>Mandarin orange, Wild berries, Honeysuckle, Ga...</td>\n",
              "      <td>casual</td>\n",
              "      <td>2008</td>\n",
              "    </tr>\n",
              "    <tr>\n",
              "      <th>5</th>\n",
              "      <td>5</td>\n",
              "      <td>Calvin Klein</td>\n",
              "      <td>eau de toilette</td>\n",
              "      <td>Eternity</td>\n",
              "      <td>4.719</td>\n",
              "      <td>men</td>\n",
              "      <td>Lavender, Mandarin orange, Bergamot, Lemon, Co...</td>\n",
              "      <td>daytime</td>\n",
              "      <td>1990</td>\n",
              "    </tr>\n",
              "  </tbody>\n",
              "</table>\n",
              "</div>"
            ],
            "text/plain": [
              "    Id            Brand  ... Recommended Time  Year\n",
              "Id                       ...                       \n",
              "1    1  Dolce & Gabbana  ...           casual  2001\n",
              "2    2   Giorgio Armani  ...           casual  1996\n",
              "3    3         Davidoff  ...          daytime  2016\n",
              "4    4    Juicy Couture  ...           casual  2008\n",
              "5    5     Calvin Klein  ...          daytime  1990\n",
              "\n",
              "[5 rows x 9 columns]"
            ]
          },
          "metadata": {
            "tags": []
          },
          "execution_count": 19
        }
      ]
    },
    {
      "cell_type": "code",
      "metadata": {
        "id": "skDLB5uI7rts",
        "colab_type": "code",
        "outputId": "c9bc58c0-730d-4c28-89f8-57ee162daea9",
        "colab": {
          "base_uri": "https://localhost:8080/",
          "height": 33
        }
      },
      "source": [
        "perfume.shape"
      ],
      "execution_count": 0,
      "outputs": [
        {
          "output_type": "execute_result",
          "data": {
            "text/plain": [
              "(8327, 9)"
            ]
          },
          "metadata": {
            "tags": []
          },
          "execution_count": 20
        }
      ]
    },
    {
      "cell_type": "code",
      "metadata": {
        "id": "g5p9W1-TCEa3",
        "colab_type": "code",
        "outputId": "e74005ed-fcb2-425a-e809-ee5f8b5067be",
        "colab": {
          "base_uri": "https://localhost:8080/",
          "height": 98
        }
      },
      "source": [
        "print (\"Unique brands: \", perfume['Brand'].nunique())\n",
        "print (\"Perfumes: \", perfume['Id'].nunique())\n",
        "print (\"Recommended Time: \",perfume['Recommended Time'].nunique())\n",
        "print (\"Year: \",perfume['Year'].nunique())\n",
        "print(\"Category: \", perfume['Category'].nunique())"
      ],
      "execution_count": 0,
      "outputs": [
        {
          "output_type": "stream",
          "text": [
            "Unique brands:  658\n",
            "Perfumes:  8327\n",
            "Recommended Time:  7\n",
            "Year:  102\n",
            "Category:  940\n"
          ],
          "name": "stdout"
        }
      ]
    },
    {
      "cell_type": "code",
      "metadata": {
        "id": "d5gV3uaSCYAM",
        "colab_type": "code",
        "colab": {}
      },
      "source": [
        "Notes = perfume['Notes'].apply(pd.Series)\n",
        "note_matrix = pd.get_dummies(Notes.apply(pd.Series).stack()).sum(level=0).rename(columns = lambda x : 'note_' +x)"
      ],
      "execution_count": 0,
      "outputs": []
    },
    {
      "cell_type": "code",
      "metadata": {
        "id": "jUvf0tIIEMlF",
        "colab_type": "code",
        "colab": {}
      },
      "source": [
        "Gender = perfume['Gender'].apply(pd.Series)\n",
        "gender_matrix = pd.get_dummies(Gender.apply(pd.Series).stack()).sum(level=0).rename(columns = lambda x: 'gender_' + x)"
      ],
      "execution_count": 0,
      "outputs": []
    },
    {
      "cell_type": "code",
      "metadata": {
        "id": "Q2nqC3gzHZO2",
        "colab_type": "code",
        "outputId": "a68ce0d9-bf0e-4c63-9d25-302d7fb653c2",
        "colab": {
          "base_uri": "https://localhost:8080/",
          "height": 82
        }
      },
      "source": [
        "gender_matrix.sum(axis=0).sort_values(ascending=True)"
      ],
      "execution_count": 0,
      "outputs": [
        {
          "output_type": "execute_result",
          "data": {
            "text/plain": [
              "gender_unisex     747\n",
              "gender_men       2819\n",
              "gender_women     4761\n",
              "dtype: int64"
            ]
          },
          "metadata": {
            "tags": []
          },
          "execution_count": 54
        }
      ]
    },
    {
      "cell_type": "code",
      "metadata": {
        "id": "HkOMGcbGHmC4",
        "colab_type": "code",
        "outputId": "16d5210f-e86b-405a-ad0c-4b79a552ccac",
        "colab": {
          "base_uri": "https://localhost:8080/",
          "height": 375
        }
      },
      "source": [
        "perfume.groupby('Brand')['Id'].count().sort_values(ascending=False)[0:20]"
      ],
      "execution_count": 0,
      "outputs": [
        {
          "output_type": "execute_result",
          "data": {
            "text/plain": [
              "Brand\n",
              "Guerlain             112\n",
              "Montale              103\n",
              "Calvin Klein         103\n",
              "Armaf                 96\n",
              "Bond No. 9            95\n",
              "Gianni Versace        93\n",
              "Bvlgari               91\n",
              "Hugo Boss             88\n",
              "Elizabeth Arden       84\n",
              "Perry Ellis           80\n",
              "Victoria's Secret     75\n",
              "Dolce & Gabbana       74\n",
              "Christian Dior        70\n",
              "Liz Claiborne         69\n",
              "Disney                68\n",
              "Paco Rabanne          66\n",
              "Burberry              64\n",
              "Givenchy              62\n",
              "Oscar de la Renta     62\n",
              "Prada                 61\n",
              "Name: Id, dtype: int64"
            ]
          },
          "metadata": {
            "tags": []
          },
          "execution_count": 55
        }
      ]
    },
    {
      "cell_type": "markdown",
      "metadata": {
        "id": "s4MNgb68Kzbl",
        "colab_type": "text"
      },
      "source": [
        "**General EDA**"
      ]
    },
    {
      "cell_type": "code",
      "metadata": {
        "id": "IZpmRdl5Fva3",
        "colab_type": "code",
        "outputId": "24e16d90-59d7-4433-e95e-ecaf2d910de9",
        "colab": {
          "base_uri": "https://localhost:8080/",
          "height": 485
        }
      },
      "source": [
        "perfume['Brand'][(perfume['Gender']== u'women')].value_counts(ascending=False)[0:50].sort_values(ascending=False).plot(kind='bar', color='m', figsize=(15,6), alpha=.6)\n",
        "plt.title(u'women vs.Brand');"
      ],
      "execution_count": 0,
      "outputs": [
        {
          "output_type": "display_data",
          "data": {
            "image/png": "[encoded data removed]",
            "text/plain": [
              "<Figure size 1080x432 with 1 Axes>"
            ]
          },
          "metadata": {
            "tags": []
          }
        }
      ]
    },
    {
      "cell_type": "code",
      "metadata": {
        "id": "-u74htwWKO3G",
        "colab_type": "code",
        "outputId": "510a4f55-9b9d-4723-e190-8eb72ae01f0e",
        "colab": {
          "base_uri": "https://localhost:8080/",
          "height": 485
        }
      },
      "source": [
        "perfume['Brand'][(perfume['Gender']== u'men')].value_counts(ascending=False)[0:50].sort_values(ascending=False).plot(kind='bar', color='b', figsize=(15,6), alpha=.6)\n",
        "plt.title(u'men vs.Brand');"
      ],
      "execution_count": 0,
      "outputs": [
        {
          "output_type": "display_data",
          "data": {
            "image/png": "[encoded data removed]",
            "text/plain": [
              "<Figure size 1080x432 with 1 Axes>"
            ]
          },
          "metadata": {
            "tags": []
          }
        }
      ]
    },
    {
      "cell_type": "code",
      "metadata": {
        "id": "RdrhAn24Ke2t",
        "colab_type": "code",
        "outputId": "2db92d9f-8392-48d1-d421-8fca90787bb2",
        "colab": {
          "base_uri": "https://localhost:8080/",
          "height": 485
        }
      },
      "source": [
        "perfume['Brand'][(perfume['Gender']== u'unisex')].value_counts(ascending=False)[0:50].sort_values(ascending=False).plot(kind='bar', color='g', figsize=(15,6), alpha=.6)\n",
        "plt.title(u'unisex vs.Brand');"
      ],
      "execution_count": 0,
      "outputs": [
        {
          "output_type": "display_data",
          "data": {
            "image/png": "[encoded data removed]",
            "text/plain": [
              "<Figure size 1080x432 with 1 Axes>"
            ]
          },
          "metadata": {
            "tags": []
          }
        }
      ]
    },
    {
      "cell_type": "code",
      "metadata": {
        "id": "hupIg352LAIk",
        "colab_type": "code",
        "outputId": "c019ade7-14a0-4f39-df38-6be31182b4da",
        "colab": {
          "base_uri": "https://localhost:8080/",
          "height": 498
        }
      },
      "source": [
        "# brand vs. number of perfumes\n",
        "perfume.groupby('Brand')['Id'].count().sort_values(ascending=False)[0:60].plot(kind='bar', alpha=.7, figsize=(15,6));\n",
        "plt.title(u'Top 10% perfume brands');"
      ],
      "execution_count": 0,
      "outputs": [
        {
          "output_type": "display_data",
          "data": {
            "image/png": "[encoded data removed]",
            "text/plain": [
              "<Figure size 1080x432 with 1 Axes>"
            ]
          },
          "metadata": {
            "tags": []
          }
        }
      ]
    },
    {
      "cell_type": "markdown",
      "metadata": {
        "id": "MysC0tyFTOKl",
        "colab_type": "text"
      },
      "source": [
        "**Working with perfume names and notes.**\n",
        "\n",
        "\n",
        "*   First get a dataframe of names and notes.\n",
        "*   Build a model that gives you information about which perfume holds which      notes.\n",
        "\n",
        "\n",
        "*   \n",
        "*   \n",
        "\n",
        "\n",
        "\n",
        "\n",
        "\n"
      ]
    },
    {
      "cell_type": "code",
      "metadata": {
        "id": "FCJEG5087eoL",
        "colab_type": "code",
        "outputId": "d2a27972-dd15-44b8-c387-3b9228532201",
        "colab": {
          "base_uri": "https://localhost:8080/",
          "height": 391
        }
      },
      "source": [
        "Perfume1 = pd.DataFrame(perfume,columns=['Name','Notes'])\n",
        "Perfume1\n"
      ],
      "execution_count": 0,
      "outputs": [
        {
          "output_type": "execute_result",
          "data": {
            "text/html": [
              "<div>\n",
              "<style scoped>\n",
              "    .dataframe tbody tr th:only-of-type {\n",
              "        vertical-align: middle;\n",
              "    }\n",
              "\n",
              "    .dataframe tbody tr th {\n",
              "        vertical-align: top;\n",
              "    }\n",
              "\n",
              "    .dataframe thead th {\n",
              "        text-align: right;\n",
              "    }\n",
              "</style>\n",
              "<table border=\"1\" class=\"dataframe\">\n",
              "  <thead>\n",
              "    <tr style=\"text-align: right;\">\n",
              "      <th></th>\n",
              "      <th>Name</th>\n",
              "      <th>Notes</th>\n",
              "    </tr>\n",
              "  </thead>\n",
              "  <tbody>\n",
              "    <tr>\n",
              "      <th>0</th>\n",
              "      <td>D &amp; G Light Blue</td>\n",
              "      <td>Apple, Cedar, Bellflower, Sicilian lemon, Whit...</td>\n",
              "    </tr>\n",
              "    <tr>\n",
              "      <th>1</th>\n",
              "      <td>Acqua Di Gio</td>\n",
              "      <td>Orange, Lime, Jasmine, Bergamot, Neroli</td>\n",
              "    </tr>\n",
              "    <tr>\n",
              "      <th>2</th>\n",
              "      <td>Cool Water</td>\n",
              "      <td>Rosemary, Mint, Sandalwood, Lavender, Cedar</td>\n",
              "    </tr>\n",
              "    <tr>\n",
              "      <th>3</th>\n",
              "      <td>Viva La Juicy</td>\n",
              "      <td>Mandarin orange, Wild berries, Honeysuckle, Ga...</td>\n",
              "    </tr>\n",
              "    <tr>\n",
              "      <th>4</th>\n",
              "      <td>Eternity</td>\n",
              "      <td>Lavender, Mandarin orange, Bergamot, Lemon, Co...</td>\n",
              "    </tr>\n",
              "    <tr>\n",
              "      <th>...</th>\n",
              "      <td>...</td>\n",
              "      <td>...</td>\n",
              "    </tr>\n",
              "    <tr>\n",
              "      <th>8322</th>\n",
              "      <td>Mexx Xx Nice</td>\n",
              "      <td>NaN</td>\n",
              "    </tr>\n",
              "    <tr>\n",
              "      <th>8323</th>\n",
              "      <td>Miami Seduction</td>\n",
              "      <td>NaN</td>\n",
              "    </tr>\n",
              "    <tr>\n",
              "      <th>8324</th>\n",
              "      <td>Miracle Secret</td>\n",
              "      <td>NaN</td>\n",
              "    </tr>\n",
              "    <tr>\n",
              "      <th>8325</th>\n",
              "      <td>Miss Soprani</td>\n",
              "      <td>NaN</td>\n",
              "    </tr>\n",
              "    <tr>\n",
              "      <th>8326</th>\n",
              "      <td>Missoni</td>\n",
              "      <td>Bergamot, Italian lemon, Citron, Pear, Jasmine...</td>\n",
              "    </tr>\n",
              "  </tbody>\n",
              "</table>\n",
              "<p>8327 rows × 2 columns</p>\n",
              "</div>"
            ],
            "text/plain": [
              "                  Name                                              Notes\n",
              "0     D & G Light Blue  Apple, Cedar, Bellflower, Sicilian lemon, Whit...\n",
              "1         Acqua Di Gio            Orange, Lime, Jasmine, Bergamot, Neroli\n",
              "2           Cool Water        Rosemary, Mint, Sandalwood, Lavender, Cedar\n",
              "3        Viva La Juicy  Mandarin orange, Wild berries, Honeysuckle, Ga...\n",
              "4             Eternity  Lavender, Mandarin orange, Bergamot, Lemon, Co...\n",
              "...                ...                                                ...\n",
              "8322      Mexx Xx Nice                                                NaN\n",
              "8323   Miami Seduction                                                NaN\n",
              "8324    Miracle Secret                                                NaN\n",
              "8325      Miss Soprani                                                NaN\n",
              "8326           Missoni  Bergamot, Italian lemon, Citron, Pear, Jasmine...\n",
              "\n",
              "[8327 rows x 2 columns]"
            ]
          },
          "metadata": {
            "tags": []
          },
          "execution_count": 3
        }
      ]
    },
    {
      "cell_type": "code",
      "metadata": {
        "id": "_Mn1Fa9M8YT_",
        "colab_type": "code",
        "outputId": "475e1325-039d-4a70-ae3a-7870da0e2e42",
        "colab": {
          "base_uri": "https://localhost:8080/",
          "height": 407
        }
      },
      "source": [
        "Perfume2 = Perfume1.dropna()\n",
        "print('Number of perfumes after removing perfumes that does not have notes:' )\n",
        "Perfume2"
      ],
      "execution_count": 0,
      "outputs": [
        {
          "output_type": "stream",
          "text": [
            "Number of perfumes after removing perfumes that does not have notes:\n"
          ],
          "name": "stdout"
        },
        {
          "output_type": "execute_result",
          "data": {
            "text/html": [
              "<div>\n",
              "<style scoped>\n",
              "    .dataframe tbody tr th:only-of-type {\n",
              "        vertical-align: middle;\n",
              "    }\n",
              "\n",
              "    .dataframe tbody tr th {\n",
              "        vertical-align: top;\n",
              "    }\n",
              "\n",
              "    .dataframe thead th {\n",
              "        text-align: right;\n",
              "    }\n",
              "</style>\n",
              "<table border=\"1\" class=\"dataframe\">\n",
              "  <thead>\n",
              "    <tr style=\"text-align: right;\">\n",
              "      <th></th>\n",
              "      <th>Name</th>\n",
              "      <th>Notes</th>\n",
              "    </tr>\n",
              "  </thead>\n",
              "  <tbody>\n",
              "    <tr>\n",
              "      <th>0</th>\n",
              "      <td>D &amp; G Light Blue</td>\n",
              "      <td>Apple, Cedar, Bellflower, Sicilian lemon, Whit...</td>\n",
              "    </tr>\n",
              "    <tr>\n",
              "      <th>1</th>\n",
              "      <td>Acqua Di Gio</td>\n",
              "      <td>Orange, Lime, Jasmine, Bergamot, Neroli</td>\n",
              "    </tr>\n",
              "    <tr>\n",
              "      <th>2</th>\n",
              "      <td>Cool Water</td>\n",
              "      <td>Rosemary, Mint, Sandalwood, Lavender, Cedar</td>\n",
              "    </tr>\n",
              "    <tr>\n",
              "      <th>3</th>\n",
              "      <td>Viva La Juicy</td>\n",
              "      <td>Mandarin orange, Wild berries, Honeysuckle, Ga...</td>\n",
              "    </tr>\n",
              "    <tr>\n",
              "      <th>4</th>\n",
              "      <td>Eternity</td>\n",
              "      <td>Lavender, Mandarin orange, Bergamot, Lemon, Co...</td>\n",
              "    </tr>\n",
              "    <tr>\n",
              "      <th>...</th>\n",
              "      <td>...</td>\n",
              "      <td>...</td>\n",
              "    </tr>\n",
              "    <tr>\n",
              "      <th>8305</th>\n",
              "      <td>Mat Chocolat</td>\n",
              "      <td>Black currant, Grapefruit, Watermelon, Rose, D...</td>\n",
              "    </tr>\n",
              "    <tr>\n",
              "      <th>8306</th>\n",
              "      <td>Matthew Williamson</td>\n",
              "      <td>lime, bergamot, tagete, neroli, cinnamon, ging...</td>\n",
              "    </tr>\n",
              "    <tr>\n",
              "      <th>8307</th>\n",
              "      <td>Max Mara</td>\n",
              "      <td>ginger, magnolia, citrus, lily, orchid, musk, ...</td>\n",
              "    </tr>\n",
              "    <tr>\n",
              "      <th>8308</th>\n",
              "      <td>Mcm Gold</td>\n",
              "      <td>Watermelon, Passion Fruit, Vanilla And Honey.</td>\n",
              "    </tr>\n",
              "    <tr>\n",
              "      <th>8326</th>\n",
              "      <td>Missoni</td>\n",
              "      <td>Bergamot, Italian lemon, Citron, Pear, Jasmine...</td>\n",
              "    </tr>\n",
              "  </tbody>\n",
              "</table>\n",
              "<p>5504 rows × 2 columns</p>\n",
              "</div>"
            ],
            "text/plain": [
              "                    Name                                              Notes\n",
              "0       D & G Light Blue  Apple, Cedar, Bellflower, Sicilian lemon, Whit...\n",
              "1           Acqua Di Gio            Orange, Lime, Jasmine, Bergamot, Neroli\n",
              "2             Cool Water        Rosemary, Mint, Sandalwood, Lavender, Cedar\n",
              "3          Viva La Juicy  Mandarin orange, Wild berries, Honeysuckle, Ga...\n",
              "4               Eternity  Lavender, Mandarin orange, Bergamot, Lemon, Co...\n",
              "...                  ...                                                ...\n",
              "8305        Mat Chocolat  Black currant, Grapefruit, Watermelon, Rose, D...\n",
              "8306  Matthew Williamson  lime, bergamot, tagete, neroli, cinnamon, ging...\n",
              "8307            Max Mara  ginger, magnolia, citrus, lily, orchid, musk, ...\n",
              "8308            Mcm Gold      Watermelon, Passion Fruit, Vanilla And Honey.\n",
              "8326             Missoni  Bergamot, Italian lemon, Citron, Pear, Jasmine...\n",
              "\n",
              "[5504 rows x 2 columns]"
            ]
          },
          "metadata": {
            "tags": []
          },
          "execution_count": 4
        }
      ]
    },
    {
      "cell_type": "code",
      "metadata": {
        "id": "B6AFpIfaCSOu",
        "colab_type": "code",
        "outputId": "08828b77-07e0-4f26-cb4a-1b465ff7c17a",
        "colab": {
          "base_uri": "https://localhost:8080/",
          "height": 391
        }
      },
      "source": [
        "Perfume3 = pd.DataFrame(Perfume2,columns=['Name'])\n",
        "Perfume3\n"
      ],
      "execution_count": 0,
      "outputs": [
        {
          "output_type": "execute_result",
          "data": {
            "text/html": [
              "<div>\n",
              "<style scoped>\n",
              "    .dataframe tbody tr th:only-of-type {\n",
              "        vertical-align: middle;\n",
              "    }\n",
              "\n",
              "    .dataframe tbody tr th {\n",
              "        vertical-align: top;\n",
              "    }\n",
              "\n",
              "    .dataframe thead th {\n",
              "        text-align: right;\n",
              "    }\n",
              "</style>\n",
              "<table border=\"1\" class=\"dataframe\">\n",
              "  <thead>\n",
              "    <tr style=\"text-align: right;\">\n",
              "      <th></th>\n",
              "      <th>Name</th>\n",
              "    </tr>\n",
              "  </thead>\n",
              "  <tbody>\n",
              "    <tr>\n",
              "      <th>0</th>\n",
              "      <td>D &amp; G Light Blue</td>\n",
              "    </tr>\n",
              "    <tr>\n",
              "      <th>1</th>\n",
              "      <td>Acqua Di Gio</td>\n",
              "    </tr>\n",
              "    <tr>\n",
              "      <th>2</th>\n",
              "      <td>Cool Water</td>\n",
              "    </tr>\n",
              "    <tr>\n",
              "      <th>3</th>\n",
              "      <td>Viva La Juicy</td>\n",
              "    </tr>\n",
              "    <tr>\n",
              "      <th>4</th>\n",
              "      <td>Eternity</td>\n",
              "    </tr>\n",
              "    <tr>\n",
              "      <th>...</th>\n",
              "      <td>...</td>\n",
              "    </tr>\n",
              "    <tr>\n",
              "      <th>8305</th>\n",
              "      <td>Mat Chocolat</td>\n",
              "    </tr>\n",
              "    <tr>\n",
              "      <th>8306</th>\n",
              "      <td>Matthew Williamson</td>\n",
              "    </tr>\n",
              "    <tr>\n",
              "      <th>8307</th>\n",
              "      <td>Max Mara</td>\n",
              "    </tr>\n",
              "    <tr>\n",
              "      <th>8308</th>\n",
              "      <td>Mcm Gold</td>\n",
              "    </tr>\n",
              "    <tr>\n",
              "      <th>8326</th>\n",
              "      <td>Missoni</td>\n",
              "    </tr>\n",
              "  </tbody>\n",
              "</table>\n",
              "<p>5504 rows × 1 columns</p>\n",
              "</div>"
            ],
            "text/plain": [
              "                    Name\n",
              "0       D & G Light Blue\n",
              "1           Acqua Di Gio\n",
              "2             Cool Water\n",
              "3          Viva La Juicy\n",
              "4               Eternity\n",
              "...                  ...\n",
              "8305        Mat Chocolat\n",
              "8306  Matthew Williamson\n",
              "8307            Max Mara\n",
              "8308            Mcm Gold\n",
              "8326             Missoni\n",
              "\n",
              "[5504 rows x 1 columns]"
            ]
          },
          "metadata": {
            "tags": []
          },
          "execution_count": 5
        }
      ]
    },
    {
      "cell_type": "code",
      "metadata": {
        "id": "aTJYUO_tZzIa",
        "colab_type": "code",
        "outputId": "f4ace023-9253-4e38-a5b9-216fcf1aa306",
        "colab": {
          "base_uri": "https://localhost:8080/",
          "height": 391
        }
      },
      "source": [
        "new_df = pd.DataFrame(Perfume2.Notes.str.split(',').tolist(), index=Perfume3.Name).stack()\n",
        "new_df = new_df.reset_index([0, 'Name'])\n",
        "new_df.columns = ['Name', 'Notes']\n",
        "new_df\n"
      ],
      "execution_count": 0,
      "outputs": [
        {
          "output_type": "execute_result",
          "data": {
            "text/html": [
              "<div>\n",
              "<style scoped>\n",
              "    .dataframe tbody tr th:only-of-type {\n",
              "        vertical-align: middle;\n",
              "    }\n",
              "\n",
              "    .dataframe tbody tr th {\n",
              "        vertical-align: top;\n",
              "    }\n",
              "\n",
              "    .dataframe thead th {\n",
              "        text-align: right;\n",
              "    }\n",
              "</style>\n",
              "<table border=\"1\" class=\"dataframe\">\n",
              "  <thead>\n",
              "    <tr style=\"text-align: right;\">\n",
              "      <th></th>\n",
              "      <th>Name</th>\n",
              "      <th>Notes</th>\n",
              "    </tr>\n",
              "  </thead>\n",
              "  <tbody>\n",
              "    <tr>\n",
              "      <th>0</th>\n",
              "      <td>D &amp; G Light Blue</td>\n",
              "      <td>Apple</td>\n",
              "    </tr>\n",
              "    <tr>\n",
              "      <th>1</th>\n",
              "      <td>D &amp; G Light Blue</td>\n",
              "      <td>Cedar</td>\n",
              "    </tr>\n",
              "    <tr>\n",
              "      <th>2</th>\n",
              "      <td>D &amp; G Light Blue</td>\n",
              "      <td>Bellflower</td>\n",
              "    </tr>\n",
              "    <tr>\n",
              "      <th>3</th>\n",
              "      <td>D &amp; G Light Blue</td>\n",
              "      <td>Sicilian lemon</td>\n",
              "    </tr>\n",
              "    <tr>\n",
              "      <th>4</th>\n",
              "      <td>D &amp; G Light Blue</td>\n",
              "      <td>White rose</td>\n",
              "    </tr>\n",
              "    <tr>\n",
              "      <th>...</th>\n",
              "      <td>...</td>\n",
              "      <td>...</td>\n",
              "    </tr>\n",
              "    <tr>\n",
              "      <th>27010</th>\n",
              "      <td>Missoni</td>\n",
              "      <td>Bergamot</td>\n",
              "    </tr>\n",
              "    <tr>\n",
              "      <th>27011</th>\n",
              "      <td>Missoni</td>\n",
              "      <td>Italian lemon</td>\n",
              "    </tr>\n",
              "    <tr>\n",
              "      <th>27012</th>\n",
              "      <td>Missoni</td>\n",
              "      <td>Citron</td>\n",
              "    </tr>\n",
              "    <tr>\n",
              "      <th>27013</th>\n",
              "      <td>Missoni</td>\n",
              "      <td>Pear</td>\n",
              "    </tr>\n",
              "    <tr>\n",
              "      <th>27014</th>\n",
              "      <td>Missoni</td>\n",
              "      <td>Jasmine sambac</td>\n",
              "    </tr>\n",
              "  </tbody>\n",
              "</table>\n",
              "<p>27015 rows × 2 columns</p>\n",
              "</div>"
            ],
            "text/plain": [
              "                   Name            Notes\n",
              "0      D & G Light Blue            Apple\n",
              "1      D & G Light Blue            Cedar\n",
              "2      D & G Light Blue       Bellflower\n",
              "3      D & G Light Blue   Sicilian lemon\n",
              "4      D & G Light Blue       White rose\n",
              "...                 ...              ...\n",
              "27010           Missoni         Bergamot\n",
              "27011           Missoni    Italian lemon\n",
              "27012           Missoni           Citron\n",
              "27013           Missoni             Pear\n",
              "27014           Missoni   Jasmine sambac\n",
              "\n",
              "[27015 rows x 2 columns]"
            ]
          },
          "metadata": {
            "tags": []
          },
          "execution_count": 6
        }
      ]
    },
    {
      "cell_type": "code",
      "metadata": {
        "id": "Kk4JP9SG0eUJ",
        "colab_type": "code",
        "outputId": "b45eb60b-ab9d-4a2b-e094-37f21ba4cce1",
        "colab": {
          "base_uri": "https://localhost:8080/",
          "height": 207
        }
      },
      "source": [
        "\n",
        "df = pd.DataFrame( index=Perfume3['Name'],columns=new_df['Notes'])\n",
        "\n",
        "# df.to_csv('/content/drive/My Drive/Perfume Dataset/output.csv', encoding='utf-8', index=False)\n",
        "df\n",
        "df = perfume[perfume['Name'].str.contains['Notes']]\n",
        "df\n"
      ],
      "execution_count": 0,
      "outputs": [
        {
          "output_type": "error",
          "ename": "TypeError",
          "evalue": "ignored",
          "traceback": [
            "\u001b[0;31m---------------------------------------------------------------------------\u001b[0m",
            "\u001b[0;31mTypeError\u001b[0m                                 Traceback (most recent call last)",
            "\u001b[0;32m<ipython-input-11-bc409f216579>\u001b[0m in \u001b[0;36m<module>\u001b[0;34m()\u001b[0m\n\u001b[1;32m      4\u001b[0m \u001b[0;31m# df.to_csv('/content/drive/My Drive/Perfume Dataset/output.csv', encoding='utf-8', index=False)\u001b[0m\u001b[0;34m\u001b[0m\u001b[0;34m\u001b[0m\u001b[0;34m\u001b[0m\u001b[0m\n\u001b[1;32m      5\u001b[0m \u001b[0mdf\u001b[0m\u001b[0;34m\u001b[0m\u001b[0;34m\u001b[0m\u001b[0m\n\u001b[0;32m----> 6\u001b[0;31m \u001b[0mdf\u001b[0m \u001b[0;34m=\u001b[0m \u001b[0mperfume\u001b[0m\u001b[0;34m[\u001b[0m\u001b[0mperfume\u001b[0m\u001b[0;34m[\u001b[0m\u001b[0;34m'Name'\u001b[0m\u001b[0;34m]\u001b[0m\u001b[0;34m.\u001b[0m\u001b[0mstr\u001b[0m\u001b[0;34m.\u001b[0m\u001b[0mcontains\u001b[0m\u001b[0;34m[\u001b[0m\u001b[0;34m'Notes'\u001b[0m\u001b[0;34m]\u001b[0m\u001b[0;34m]\u001b[0m\u001b[0;34m\u001b[0m\u001b[0;34m\u001b[0m\u001b[0m\n\u001b[0m\u001b[1;32m      7\u001b[0m \u001b[0mdf\u001b[0m\u001b[0;34m\u001b[0m\u001b[0;34m\u001b[0m\u001b[0m\n",
            "\u001b[0;31mTypeError\u001b[0m: 'method' object is not subscriptable"
          ]
        }
      ]
    },
    {
      "cell_type": "code",
      "metadata": {
        "id": "8XdK3f-81Z1Z",
        "colab_type": "code",
        "colab": {}
      },
      "source": [
        "Perfume1 = perfume[perfume['Name'].str.contains(\"D & G Light Blue\") & perfume['Notes'].str.contains('Apple, Cedar, Bellflower, Sicilian lemon, White rose') & perfume['Category'].str.contains('eau de toilette')]\n",
        "Perfume1"
      ],
      "execution_count": 0,
      "outputs": []
    },
    {
      "cell_type": "code",
      "metadata": {
        "id": "XntKc4t8KU_4",
        "colab_type": "code",
        "outputId": "ddd9b651-5012-48c5-de52-c0336116d7f6",
        "colab": {
          "base_uri": "https://localhost:8080/",
          "height": 283
        }
      },
      "source": [
        "export_csv = df.to_csv (r'/content/drive/My Drive/Perfume Dataset/export_csv.csv', index = None, header=True) #Don't forget to add '.csv' at the end of the path"
      ],
      "execution_count": 0,
      "outputs": [
        {
          "output_type": "error",
          "ename": "KeyboardInterrupt",
          "evalue": "ignored",
          "traceback": [
            "\u001b[0;31m---------------------------------------------------------------------------\u001b[0m",
            "\u001b[0;31mKeyboardInterrupt\u001b[0m                         Traceback (most recent call last)",
            "\u001b[0;32m<ipython-input-8-771f7ecd1210>\u001b[0m in \u001b[0;36m<module>\u001b[0;34m()\u001b[0m\n\u001b[0;32m----> 1\u001b[0;31m \u001b[0mexport_csv\u001b[0m \u001b[0;34m=\u001b[0m \u001b[0mdf\u001b[0m\u001b[0;34m.\u001b[0m\u001b[0mto_csv\u001b[0m \u001b[0;34m(\u001b[0m\u001b[0;34mr'/content/drive/My Drive/Perfume Dataset/export_csv.csv'\u001b[0m\u001b[0;34m,\u001b[0m \u001b[0mindex\u001b[0m \u001b[0;34m=\u001b[0m \u001b[0;32mNone\u001b[0m\u001b[0;34m,\u001b[0m \u001b[0mheader\u001b[0m\u001b[0;34m=\u001b[0m\u001b[0;32mTrue\u001b[0m\u001b[0;34m)\u001b[0m \u001b[0;31m#Don't forget to add '.csv' at the end of the path\u001b[0m\u001b[0;34m\u001b[0m\u001b[0;34m\u001b[0m\u001b[0m\n\u001b[0m",
            "\u001b[0;32m/usr/local/lib/python3.6/dist-packages/pandas/core/generic.py\u001b[0m in \u001b[0;36mto_csv\u001b[0;34m(self, path_or_buf, sep, na_rep, float_format, columns, header, index, index_label, mode, encoding, compression, quoting, quotechar, line_terminator, chunksize, date_format, doublequote, escapechar, decimal)\u001b[0m\n\u001b[1;32m   3226\u001b[0m             \u001b[0mdecimal\u001b[0m\u001b[0;34m=\u001b[0m\u001b[0mdecimal\u001b[0m\u001b[0;34m,\u001b[0m\u001b[0;34m\u001b[0m\u001b[0;34m\u001b[0m\u001b[0m\n\u001b[1;32m   3227\u001b[0m         )\n\u001b[0;32m-> 3228\u001b[0;31m         \u001b[0mformatter\u001b[0m\u001b[0;34m.\u001b[0m\u001b[0msave\u001b[0m\u001b[0;34m(\u001b[0m\u001b[0;34m)\u001b[0m\u001b[0;34m\u001b[0m\u001b[0;34m\u001b[0m\u001b[0m\n\u001b[0m\u001b[1;32m   3229\u001b[0m \u001b[0;34m\u001b[0m\u001b[0m\n\u001b[1;32m   3230\u001b[0m         \u001b[0;32mif\u001b[0m \u001b[0mpath_or_buf\u001b[0m \u001b[0;32mis\u001b[0m \u001b[0;32mNone\u001b[0m\u001b[0;34m:\u001b[0m\u001b[0;34m\u001b[0m\u001b[0;34m\u001b[0m\u001b[0m\n",
            "\u001b[0;32m/usr/local/lib/python3.6/dist-packages/pandas/io/formats/csvs.py\u001b[0m in \u001b[0;36msave\u001b[0;34m(self)\u001b[0m\n\u001b[1;32m    200\u001b[0m                 \u001b[0mself\u001b[0m\u001b[0;34m.\u001b[0m\u001b[0mwriter\u001b[0m \u001b[0;34m=\u001b[0m \u001b[0mUnicodeWriter\u001b[0m\u001b[0;34m(\u001b[0m\u001b[0mf\u001b[0m\u001b[0;34m,\u001b[0m \u001b[0;34m**\u001b[0m\u001b[0mwriter_kwargs\u001b[0m\u001b[0;34m)\u001b[0m\u001b[0;34m\u001b[0m\u001b[0;34m\u001b[0m\u001b[0m\n\u001b[1;32m    201\u001b[0m \u001b[0;34m\u001b[0m\u001b[0m\n\u001b[0;32m--> 202\u001b[0;31m             \u001b[0mself\u001b[0m\u001b[0;34m.\u001b[0m\u001b[0m_save\u001b[0m\u001b[0;34m(\u001b[0m\u001b[0;34m)\u001b[0m\u001b[0;34m\u001b[0m\u001b[0;34m\u001b[0m\u001b[0m\n\u001b[0m\u001b[1;32m    203\u001b[0m \u001b[0;34m\u001b[0m\u001b[0m\n\u001b[1;32m    204\u001b[0m         \u001b[0;32mfinally\u001b[0m\u001b[0;34m:\u001b[0m\u001b[0;34m\u001b[0m\u001b[0;34m\u001b[0m\u001b[0m\n",
            "\u001b[0;32m/usr/local/lib/python3.6/dist-packages/pandas/io/formats/csvs.py\u001b[0m in \u001b[0;36m_save\u001b[0;34m(self)\u001b[0m\n\u001b[1;32m    322\u001b[0m                 \u001b[0;32mbreak\u001b[0m\u001b[0;34m\u001b[0m\u001b[0;34m\u001b[0m\u001b[0m\n\u001b[1;32m    323\u001b[0m \u001b[0;34m\u001b[0m\u001b[0m\n\u001b[0;32m--> 324\u001b[0;31m             \u001b[0mself\u001b[0m\u001b[0;34m.\u001b[0m\u001b[0m_save_chunk\u001b[0m\u001b[0;34m(\u001b[0m\u001b[0mstart_i\u001b[0m\u001b[0;34m,\u001b[0m \u001b[0mend_i\u001b[0m\u001b[0;34m)\u001b[0m\u001b[0;34m\u001b[0m\u001b[0;34m\u001b[0m\u001b[0m\n\u001b[0m\u001b[1;32m    325\u001b[0m \u001b[0;34m\u001b[0m\u001b[0m\n\u001b[1;32m    326\u001b[0m     \u001b[0;32mdef\u001b[0m \u001b[0m_save_chunk\u001b[0m\u001b[0;34m(\u001b[0m\u001b[0mself\u001b[0m\u001b[0;34m,\u001b[0m \u001b[0mstart_i\u001b[0m\u001b[0;34m,\u001b[0m \u001b[0mend_i\u001b[0m\u001b[0;34m)\u001b[0m\u001b[0;34m:\u001b[0m\u001b[0;34m\u001b[0m\u001b[0;34m\u001b[0m\u001b[0m\n",
            "\u001b[0;32m/usr/local/lib/python3.6/dist-packages/pandas/io/formats/csvs.py\u001b[0m in \u001b[0;36m_save_chunk\u001b[0;34m(self, start_i, end_i)\u001b[0m\n\u001b[1;32m    354\u001b[0m         )\n\u001b[1;32m    355\u001b[0m \u001b[0;34m\u001b[0m\u001b[0m\n\u001b[0;32m--> 356\u001b[0;31m         \u001b[0mlibwriters\u001b[0m\u001b[0;34m.\u001b[0m\u001b[0mwrite_csv_rows\u001b[0m\u001b[0;34m(\u001b[0m\u001b[0mself\u001b[0m\u001b[0;34m.\u001b[0m\u001b[0mdata\u001b[0m\u001b[0;34m,\u001b[0m \u001b[0mix\u001b[0m\u001b[0;34m,\u001b[0m \u001b[0mself\u001b[0m\u001b[0;34m.\u001b[0m\u001b[0mnlevels\u001b[0m\u001b[0;34m,\u001b[0m \u001b[0mself\u001b[0m\u001b[0;34m.\u001b[0m\u001b[0mcols\u001b[0m\u001b[0;34m,\u001b[0m \u001b[0mself\u001b[0m\u001b[0;34m.\u001b[0m\u001b[0mwriter\u001b[0m\u001b[0;34m)\u001b[0m\u001b[0;34m\u001b[0m\u001b[0;34m\u001b[0m\u001b[0m\n\u001b[0m",
            "\u001b[0;31mKeyboardInterrupt\u001b[0m: "
          ]
        }
      ]
    },
    {
      "cell_type": "code",
      "metadata": {
        "id": "WOenLSzxIPs1",
        "colab_type": "code",
        "outputId": "8311e11b-2595-4d78-8097-076910544368",
        "colab": {
          "base_uri": "https://localhost:8080/",
          "height": 333
        }
      },
      "source": [
        "Perfume1 = perfume[perfume['Name'].str.contains(\"D & G Light Blue\") & perfume['Notes'].str.contains('Apple, Cedar, Bellflower, Sicilian lemon, White rose') & perfume['Category'].str.contains('eau de toilette')]\n",
        "Perfume1"
      ],
      "execution_count": 0,
      "outputs": [
        {
          "output_type": "execute_result",
          "data": {
            "text/html": [
              "<div>\n",
              "<style scoped>\n",
              "    .dataframe tbody tr th:only-of-type {\n",
              "        vertical-align: middle;\n",
              "    }\n",
              "\n",
              "    .dataframe tbody tr th {\n",
              "        vertical-align: top;\n",
              "    }\n",
              "\n",
              "    .dataframe thead th {\n",
              "        text-align: right;\n",
              "    }\n",
              "</style>\n",
              "<table border=\"1\" class=\"dataframe\">\n",
              "  <thead>\n",
              "    <tr style=\"text-align: right;\">\n",
              "      <th></th>\n",
              "      <th>Id</th>\n",
              "      <th>Brand</th>\n",
              "      <th>Category</th>\n",
              "      <th>Name</th>\n",
              "      <th>Rating</th>\n",
              "      <th>Gender</th>\n",
              "      <th>Notes</th>\n",
              "      <th>Recommended Time</th>\n",
              "      <th>Year</th>\n",
              "      <th>Perfume url</th>\n",
              "    </tr>\n",
              "  </thead>\n",
              "  <tbody>\n",
              "    <tr>\n",
              "      <th>0</th>\n",
              "      <td>1</td>\n",
              "      <td>Dolce &amp; Gabbana</td>\n",
              "      <td>eau de toilette</td>\n",
              "      <td>D &amp; G Light Blue</td>\n",
              "      <td>4.847</td>\n",
              "      <td>women</td>\n",
              "      <td>Apple, Cedar, Bellflower, Sicilian lemon, Whit...</td>\n",
              "      <td>casual</td>\n",
              "      <td>2001</td>\n",
              "      <td>https://www.fragrancenet.com/perfume/dolce-and...</td>\n",
              "    </tr>\n",
              "    <tr>\n",
              "      <th>551</th>\n",
              "      <td>552</td>\n",
              "      <td>Dolce &amp; Gabbana</td>\n",
              "      <td>eau de toilette spray 3.3 oz &amp; body cream 3.3 ...</td>\n",
              "      <td>D &amp; G Light Blue</td>\n",
              "      <td>5.000</td>\n",
              "      <td>women</td>\n",
              "      <td>Apple, Cedar, Bellflower, Sicilian lemon, Whit...</td>\n",
              "      <td>casual</td>\n",
              "      <td>2001</td>\n",
              "      <td>https://www.fragrancenet.com/perfume/dolce-and...</td>\n",
              "    </tr>\n",
              "    <tr>\n",
              "      <th>1698</th>\n",
              "      <td>1699</td>\n",
              "      <td>Dolce &amp; Gabbana</td>\n",
              "      <td>eau de toilette spray 3.4 oz &amp; body cream 3.3 ...</td>\n",
              "      <td>D &amp; G Light Blue</td>\n",
              "      <td>NaN</td>\n",
              "      <td>women</td>\n",
              "      <td>Apple, Cedar, Bellflower, Sicilian lemon, Whit...</td>\n",
              "      <td>casual</td>\n",
              "      <td>2001</td>\n",
              "      <td>https://www.fragrancenet.com/perfume/dolce-and...</td>\n",
              "    </tr>\n",
              "    <tr>\n",
              "      <th>1882</th>\n",
              "      <td>1883</td>\n",
              "      <td>Dolce &amp; Gabbana</td>\n",
              "      <td>eau de toilette spray 3.4 oz &amp; body cream 3.3 ...</td>\n",
              "      <td>D &amp; G Light Blue</td>\n",
              "      <td>NaN</td>\n",
              "      <td>women</td>\n",
              "      <td>Apple, Cedar, Bellflower, Sicilian lemon, Whit...</td>\n",
              "      <td>casual</td>\n",
              "      <td>2001</td>\n",
              "      <td>https://www.fragrancenet.com/perfume/dolce-and...</td>\n",
              "    </tr>\n",
              "    <tr>\n",
              "      <th>2546</th>\n",
              "      <td>2547</td>\n",
              "      <td>Dolce &amp; Gabbana</td>\n",
              "      <td>eau de toilette spray 3.3 oz &amp; body cream 3.3 ...</td>\n",
              "      <td>D &amp; G Light Blue</td>\n",
              "      <td>NaN</td>\n",
              "      <td>women</td>\n",
              "      <td>Apple, Cedar, Bellflower, Sicilian lemon, Whit...</td>\n",
              "      <td>casual</td>\n",
              "      <td>2001</td>\n",
              "      <td>https://www.fragrancenet.com/perfume/dolce-and...</td>\n",
              "    </tr>\n",
              "    <tr>\n",
              "      <th>4044</th>\n",
              "      <td>4045</td>\n",
              "      <td>Dolce &amp; Gabbana</td>\n",
              "      <td>eau de toilette spray 3.4 oz &amp; eau de toilette...</td>\n",
              "      <td>D &amp; G Light Blue</td>\n",
              "      <td>NaN</td>\n",
              "      <td>women</td>\n",
              "      <td>Apple, Cedar, Bellflower, Sicilian lemon, Whit...</td>\n",
              "      <td>casual</td>\n",
              "      <td>2001</td>\n",
              "      <td>https://www.fragrancenet.com/perfume/dolce-and...</td>\n",
              "    </tr>\n",
              "  </tbody>\n",
              "</table>\n",
              "</div>"
            ],
            "text/plain": [
              "        Id  ...                                        Perfume url\n",
              "0        1  ...  https://www.fragrancenet.com/perfume/dolce-and...\n",
              "551    552  ...  https://www.fragrancenet.com/perfume/dolce-and...\n",
              "1698  1699  ...  https://www.fragrancenet.com/perfume/dolce-and...\n",
              "1882  1883  ...  https://www.fragrancenet.com/perfume/dolce-and...\n",
              "2546  2547  ...  https://www.fragrancenet.com/perfume/dolce-and...\n",
              "4044  4045  ...  https://www.fragrancenet.com/perfume/dolce-and...\n",
              "\n",
              "[6 rows x 10 columns]"
            ]
          },
          "metadata": {
            "tags": []
          },
          "execution_count": 133
        }
      ]
    },
    {
      "cell_type": "code",
      "metadata": {
        "id": "7ppCOMQjXYdr",
        "colab_type": "code",
        "outputId": "88634985-54f4-4e3c-e799-445b9702783d",
        "colab": {
          "base_uri": "https://localhost:8080/",
          "height": 586
        }
      },
      "source": [
        "#  uniqueValues = Perfume1['Notes'].unique()\n",
        " \n",
        "\n",
        "# print(uniqueValues)\n",
        "\n",
        "# Perfume1.composers.str.split('\\s+').str[0]\n",
        "Perfume1['Notes'].str.split(',', expand=True)\n",
        "# Perfume1 = Perfume1.set_index('Name') \n",
        "  \n",
        "# Perfume1\n",
        "\n",
        "\n"
      ],
      "execution_count": 0,
      "outputs": [
        {
          "output_type": "execute_result",
          "data": {
            "text/html": [
              "<div>\n",
              "<style scoped>\n",
              "    .dataframe tbody tr th:only-of-type {\n",
              "        vertical-align: middle;\n",
              "    }\n",
              "\n",
              "    .dataframe tbody tr th {\n",
              "        vertical-align: top;\n",
              "    }\n",
              "\n",
              "    .dataframe thead th {\n",
              "        text-align: right;\n",
              "    }\n",
              "</style>\n",
              "<table border=\"1\" class=\"dataframe\">\n",
              "  <thead>\n",
              "    <tr style=\"text-align: right;\">\n",
              "      <th></th>\n",
              "      <th>0</th>\n",
              "      <th>1</th>\n",
              "      <th>2</th>\n",
              "      <th>3</th>\n",
              "      <th>4</th>\n",
              "      <th>5</th>\n",
              "      <th>6</th>\n",
              "      <th>7</th>\n",
              "      <th>8</th>\n",
              "      <th>9</th>\n",
              "      <th>10</th>\n",
              "      <th>11</th>\n",
              "      <th>12</th>\n",
              "      <th>13</th>\n",
              "      <th>14</th>\n",
              "      <th>15</th>\n",
              "      <th>16</th>\n",
              "      <th>17</th>\n",
              "      <th>18</th>\n",
              "      <th>19</th>\n",
              "      <th>20</th>\n",
              "    </tr>\n",
              "    <tr>\n",
              "      <th>Name</th>\n",
              "      <th></th>\n",
              "      <th></th>\n",
              "      <th></th>\n",
              "      <th></th>\n",
              "      <th></th>\n",
              "      <th></th>\n",
              "      <th></th>\n",
              "      <th></th>\n",
              "      <th></th>\n",
              "      <th></th>\n",
              "      <th></th>\n",
              "      <th></th>\n",
              "      <th></th>\n",
              "      <th></th>\n",
              "      <th></th>\n",
              "      <th></th>\n",
              "      <th></th>\n",
              "      <th></th>\n",
              "      <th></th>\n",
              "      <th></th>\n",
              "      <th></th>\n",
              "    </tr>\n",
              "  </thead>\n",
              "  <tbody>\n",
              "    <tr>\n",
              "      <th>D &amp; G Light Blue</th>\n",
              "      <td>Apple</td>\n",
              "      <td>Cedar</td>\n",
              "      <td>Bellflower</td>\n",
              "      <td>Sicilian lemon</td>\n",
              "      <td>White rose</td>\n",
              "      <td>None</td>\n",
              "      <td>None</td>\n",
              "      <td>None</td>\n",
              "      <td>None</td>\n",
              "      <td>None</td>\n",
              "      <td>None</td>\n",
              "      <td>None</td>\n",
              "      <td>None</td>\n",
              "      <td>None</td>\n",
              "      <td>None</td>\n",
              "      <td>None</td>\n",
              "      <td>None</td>\n",
              "      <td>None</td>\n",
              "      <td>None</td>\n",
              "      <td>None</td>\n",
              "      <td>None</td>\n",
              "    </tr>\n",
              "    <tr>\n",
              "      <th>Acqua Di Gio</th>\n",
              "      <td>Orange</td>\n",
              "      <td>Lime</td>\n",
              "      <td>Jasmine</td>\n",
              "      <td>Bergamot</td>\n",
              "      <td>Neroli</td>\n",
              "      <td>None</td>\n",
              "      <td>None</td>\n",
              "      <td>None</td>\n",
              "      <td>None</td>\n",
              "      <td>None</td>\n",
              "      <td>None</td>\n",
              "      <td>None</td>\n",
              "      <td>None</td>\n",
              "      <td>None</td>\n",
              "      <td>None</td>\n",
              "      <td>None</td>\n",
              "      <td>None</td>\n",
              "      <td>None</td>\n",
              "      <td>None</td>\n",
              "      <td>None</td>\n",
              "      <td>None</td>\n",
              "    </tr>\n",
              "    <tr>\n",
              "      <th>Cool Water</th>\n",
              "      <td>Rosemary</td>\n",
              "      <td>Mint</td>\n",
              "      <td>Sandalwood</td>\n",
              "      <td>Lavender</td>\n",
              "      <td>Cedar</td>\n",
              "      <td>None</td>\n",
              "      <td>None</td>\n",
              "      <td>None</td>\n",
              "      <td>None</td>\n",
              "      <td>None</td>\n",
              "      <td>None</td>\n",
              "      <td>None</td>\n",
              "      <td>None</td>\n",
              "      <td>None</td>\n",
              "      <td>None</td>\n",
              "      <td>None</td>\n",
              "      <td>None</td>\n",
              "      <td>None</td>\n",
              "      <td>None</td>\n",
              "      <td>None</td>\n",
              "      <td>None</td>\n",
              "    </tr>\n",
              "    <tr>\n",
              "      <th>Viva La Juicy</th>\n",
              "      <td>Mandarin orange</td>\n",
              "      <td>Wild berries</td>\n",
              "      <td>Honeysuckle</td>\n",
              "      <td>Gardenia</td>\n",
              "      <td>Jasmine</td>\n",
              "      <td>None</td>\n",
              "      <td>None</td>\n",
              "      <td>None</td>\n",
              "      <td>None</td>\n",
              "      <td>None</td>\n",
              "      <td>None</td>\n",
              "      <td>None</td>\n",
              "      <td>None</td>\n",
              "      <td>None</td>\n",
              "      <td>None</td>\n",
              "      <td>None</td>\n",
              "      <td>None</td>\n",
              "      <td>None</td>\n",
              "      <td>None</td>\n",
              "      <td>None</td>\n",
              "      <td>None</td>\n",
              "    </tr>\n",
              "    <tr>\n",
              "      <th>Eternity</th>\n",
              "      <td>Lavender</td>\n",
              "      <td>Mandarin orange</td>\n",
              "      <td>Bergamot</td>\n",
              "      <td>Lemon</td>\n",
              "      <td>Coriander</td>\n",
              "      <td>None</td>\n",
              "      <td>None</td>\n",
              "      <td>None</td>\n",
              "      <td>None</td>\n",
              "      <td>None</td>\n",
              "      <td>None</td>\n",
              "      <td>None</td>\n",
              "      <td>None</td>\n",
              "      <td>None</td>\n",
              "      <td>None</td>\n",
              "      <td>None</td>\n",
              "      <td>None</td>\n",
              "      <td>None</td>\n",
              "      <td>None</td>\n",
              "      <td>None</td>\n",
              "      <td>None</td>\n",
              "    </tr>\n",
              "    <tr>\n",
              "      <th>...</th>\n",
              "      <td>...</td>\n",
              "      <td>...</td>\n",
              "      <td>...</td>\n",
              "      <td>...</td>\n",
              "      <td>...</td>\n",
              "      <td>...</td>\n",
              "      <td>...</td>\n",
              "      <td>...</td>\n",
              "      <td>...</td>\n",
              "      <td>...</td>\n",
              "      <td>...</td>\n",
              "      <td>...</td>\n",
              "      <td>...</td>\n",
              "      <td>...</td>\n",
              "      <td>...</td>\n",
              "      <td>...</td>\n",
              "      <td>...</td>\n",
              "      <td>...</td>\n",
              "      <td>...</td>\n",
              "      <td>...</td>\n",
              "      <td>...</td>\n",
              "    </tr>\n",
              "    <tr>\n",
              "      <th>Mat Chocolat</th>\n",
              "      <td>Black currant</td>\n",
              "      <td>Grapefruit</td>\n",
              "      <td>Watermelon</td>\n",
              "      <td>Rose</td>\n",
              "      <td>Dark chocolate</td>\n",
              "      <td>None</td>\n",
              "      <td>None</td>\n",
              "      <td>None</td>\n",
              "      <td>None</td>\n",
              "      <td>None</td>\n",
              "      <td>None</td>\n",
              "      <td>None</td>\n",
              "      <td>None</td>\n",
              "      <td>None</td>\n",
              "      <td>None</td>\n",
              "      <td>None</td>\n",
              "      <td>None</td>\n",
              "      <td>None</td>\n",
              "      <td>None</td>\n",
              "      <td>None</td>\n",
              "      <td>None</td>\n",
              "    </tr>\n",
              "    <tr>\n",
              "      <th>Matthew Williamson</th>\n",
              "      <td>lime</td>\n",
              "      <td>bergamot</td>\n",
              "      <td>tagete</td>\n",
              "      <td>neroli</td>\n",
              "      <td>cinnamon</td>\n",
              "      <td>ginger</td>\n",
              "      <td>benzoin</td>\n",
              "      <td>jasmine sambac</td>\n",
              "      <td>schinus molle</td>\n",
              "      <td>ylang ylang</td>\n",
              "      <td>magnolia</td>\n",
              "      <td>orris concrete</td>\n",
              "      <td>gardenia</td>\n",
              "      <td>rose</td>\n",
              "      <td>sandalwood</td>\n",
              "      <td>vanilla</td>\n",
              "      <td>olibanum</td>\n",
              "      <td>labdanum</td>\n",
              "      <td>patchouli</td>\n",
              "      <td>musk</td>\n",
              "      <td>heliotrope</td>\n",
              "    </tr>\n",
              "    <tr>\n",
              "      <th>Max Mara</th>\n",
              "      <td>ginger</td>\n",
              "      <td>magnolia</td>\n",
              "      <td>citrus</td>\n",
              "      <td>lily</td>\n",
              "      <td>orchid</td>\n",
              "      <td>musk</td>\n",
              "      <td>and sugar.</td>\n",
              "      <td>None</td>\n",
              "      <td>None</td>\n",
              "      <td>None</td>\n",
              "      <td>None</td>\n",
              "      <td>None</td>\n",
              "      <td>None</td>\n",
              "      <td>None</td>\n",
              "      <td>None</td>\n",
              "      <td>None</td>\n",
              "      <td>None</td>\n",
              "      <td>None</td>\n",
              "      <td>None</td>\n",
              "      <td>None</td>\n",
              "      <td>None</td>\n",
              "    </tr>\n",
              "    <tr>\n",
              "      <th>Mcm Gold</th>\n",
              "      <td>Watermelon</td>\n",
              "      <td>Passion Fruit</td>\n",
              "      <td>Vanilla And Honey.</td>\n",
              "      <td>None</td>\n",
              "      <td>None</td>\n",
              "      <td>None</td>\n",
              "      <td>None</td>\n",
              "      <td>None</td>\n",
              "      <td>None</td>\n",
              "      <td>None</td>\n",
              "      <td>None</td>\n",
              "      <td>None</td>\n",
              "      <td>None</td>\n",
              "      <td>None</td>\n",
              "      <td>None</td>\n",
              "      <td>None</td>\n",
              "      <td>None</td>\n",
              "      <td>None</td>\n",
              "      <td>None</td>\n",
              "      <td>None</td>\n",
              "      <td>None</td>\n",
              "    </tr>\n",
              "    <tr>\n",
              "      <th>Missoni</th>\n",
              "      <td>Bergamot</td>\n",
              "      <td>Italian lemon</td>\n",
              "      <td>Citron</td>\n",
              "      <td>Pear</td>\n",
              "      <td>Jasmine sambac</td>\n",
              "      <td>None</td>\n",
              "      <td>None</td>\n",
              "      <td>None</td>\n",
              "      <td>None</td>\n",
              "      <td>None</td>\n",
              "      <td>None</td>\n",
              "      <td>None</td>\n",
              "      <td>None</td>\n",
              "      <td>None</td>\n",
              "      <td>None</td>\n",
              "      <td>None</td>\n",
              "      <td>None</td>\n",
              "      <td>None</td>\n",
              "      <td>None</td>\n",
              "      <td>None</td>\n",
              "      <td>None</td>\n",
              "    </tr>\n",
              "  </tbody>\n",
              "</table>\n",
              "<p>5504 rows × 21 columns</p>\n",
              "</div>"
            ],
            "text/plain": [
              "                                 0                 1   ...     19           20\n",
              "Name                                                   ...                    \n",
              "D & G Light Blue              Apple             Cedar  ...   None         None\n",
              "Acqua Di Gio                 Orange              Lime  ...   None         None\n",
              "Cool Water                 Rosemary              Mint  ...   None         None\n",
              "Viva La Juicy       Mandarin orange      Wild berries  ...   None         None\n",
              "Eternity                   Lavender   Mandarin orange  ...   None         None\n",
              "...                             ...               ...  ...    ...          ...\n",
              "Mat Chocolat          Black currant        Grapefruit  ...   None         None\n",
              "Matthew Williamson             lime          bergamot  ...   musk   heliotrope\n",
              "Max Mara                     ginger          magnolia  ...   None         None\n",
              "Mcm Gold                 Watermelon     Passion Fruit  ...   None         None\n",
              "Missoni                    Bergamot     Italian lemon  ...   None         None\n",
              "\n",
              "[5504 rows x 21 columns]"
            ]
          },
          "metadata": {
            "tags": []
          },
          "execution_count": 99
        }
      ]
    },
    {
      "cell_type": "code",
      "metadata": {
        "id": "J3SlBVhLLlOV",
        "colab_type": "code",
        "outputId": "2ea65f52-d2ab-4a94-fe34-95cd67dae55c",
        "colab": {
          "base_uri": "https://localhost:8080/",
          "height": 397
        }
      },
      "source": [
        "ab = pd.read_csv('/content/drive/My Drive/Perfume Dataset/export_csv.csv', sep=',', error_bad_lines = False, encoding=\"latin-1\")\n",
        "ab"
      ],
      "execution_count": 0,
      "outputs": [
        {
          "output_type": "error",
          "ename": "FileNotFoundError",
          "evalue": "ignored",
          "traceback": [
            "\u001b[0;31m---------------------------------------------------------------------------\u001b[0m",
            "\u001b[0;31mFileNotFoundError\u001b[0m                         Traceback (most recent call last)",
            "\u001b[0;32m<ipython-input-101-3e0c5d301186>\u001b[0m in \u001b[0;36m<module>\u001b[0;34m()\u001b[0m\n\u001b[0;32m----> 1\u001b[0;31m \u001b[0mab\u001b[0m \u001b[0;34m=\u001b[0m \u001b[0mpd\u001b[0m\u001b[0;34m.\u001b[0m\u001b[0mread_csv\u001b[0m\u001b[0;34m(\u001b[0m\u001b[0;34m'/content/drive/My Drive/Perfume Dataset/export_csv.csv'\u001b[0m\u001b[0;34m,\u001b[0m \u001b[0msep\u001b[0m\u001b[0;34m=\u001b[0m\u001b[0;34m','\u001b[0m\u001b[0;34m,\u001b[0m \u001b[0merror_bad_lines\u001b[0m \u001b[0;34m=\u001b[0m \u001b[0;32mFalse\u001b[0m\u001b[0;34m,\u001b[0m \u001b[0mencoding\u001b[0m\u001b[0;34m=\u001b[0m\u001b[0;34m\"latin-1\"\u001b[0m\u001b[0;34m)\u001b[0m\u001b[0;34m\u001b[0m\u001b[0;34m\u001b[0m\u001b[0m\n\u001b[0m\u001b[1;32m      2\u001b[0m \u001b[0mab\u001b[0m\u001b[0;34m\u001b[0m\u001b[0;34m\u001b[0m\u001b[0m\n",
            "\u001b[0;32m/usr/local/lib/python3.6/dist-packages/pandas/io/parsers.py\u001b[0m in \u001b[0;36mparser_f\u001b[0;34m(filepath_or_buffer, sep, delimiter, header, names, index_col, usecols, squeeze, prefix, mangle_dupe_cols, dtype, engine, converters, true_values, false_values, skipinitialspace, skiprows, skipfooter, nrows, na_values, keep_default_na, na_filter, verbose, skip_blank_lines, parse_dates, infer_datetime_format, keep_date_col, date_parser, dayfirst, cache_dates, iterator, chunksize, compression, thousands, decimal, lineterminator, quotechar, quoting, doublequote, escapechar, comment, encoding, dialect, error_bad_lines, warn_bad_lines, delim_whitespace, low_memory, memory_map, float_precision)\u001b[0m\n\u001b[1;32m    683\u001b[0m         )\n\u001b[1;32m    684\u001b[0m \u001b[0;34m\u001b[0m\u001b[0m\n\u001b[0;32m--> 685\u001b[0;31m         \u001b[0;32mreturn\u001b[0m \u001b[0m_read\u001b[0m\u001b[0;34m(\u001b[0m\u001b[0mfilepath_or_buffer\u001b[0m\u001b[0;34m,\u001b[0m \u001b[0mkwds\u001b[0m\u001b[0;34m)\u001b[0m\u001b[0;34m\u001b[0m\u001b[0;34m\u001b[0m\u001b[0m\n\u001b[0m\u001b[1;32m    686\u001b[0m \u001b[0;34m\u001b[0m\u001b[0m\n\u001b[1;32m    687\u001b[0m     \u001b[0mparser_f\u001b[0m\u001b[0;34m.\u001b[0m\u001b[0m__name__\u001b[0m \u001b[0;34m=\u001b[0m \u001b[0mname\u001b[0m\u001b[0;34m\u001b[0m\u001b[0;34m\u001b[0m\u001b[0m\n",
            "\u001b[0;32m/usr/local/lib/python3.6/dist-packages/pandas/io/parsers.py\u001b[0m in \u001b[0;36m_read\u001b[0;34m(filepath_or_buffer, kwds)\u001b[0m\n\u001b[1;32m    455\u001b[0m \u001b[0;34m\u001b[0m\u001b[0m\n\u001b[1;32m    456\u001b[0m     \u001b[0;31m# Create the parser.\u001b[0m\u001b[0;34m\u001b[0m\u001b[0;34m\u001b[0m\u001b[0;34m\u001b[0m\u001b[0m\n\u001b[0;32m--> 457\u001b[0;31m     \u001b[0mparser\u001b[0m \u001b[0;34m=\u001b[0m \u001b[0mTextFileReader\u001b[0m\u001b[0;34m(\u001b[0m\u001b[0mfp_or_buf\u001b[0m\u001b[0;34m,\u001b[0m \u001b[0;34m**\u001b[0m\u001b[0mkwds\u001b[0m\u001b[0;34m)\u001b[0m\u001b[0;34m\u001b[0m\u001b[0;34m\u001b[0m\u001b[0m\n\u001b[0m\u001b[1;32m    458\u001b[0m \u001b[0;34m\u001b[0m\u001b[0m\n\u001b[1;32m    459\u001b[0m     \u001b[0;32mif\u001b[0m \u001b[0mchunksize\u001b[0m \u001b[0;32mor\u001b[0m \u001b[0miterator\u001b[0m\u001b[0;34m:\u001b[0m\u001b[0;34m\u001b[0m\u001b[0;34m\u001b[0m\u001b[0m\n",
            "\u001b[0;32m/usr/local/lib/python3.6/dist-packages/pandas/io/parsers.py\u001b[0m in \u001b[0;36m__init__\u001b[0;34m(self, f, engine, **kwds)\u001b[0m\n\u001b[1;32m    893\u001b[0m             \u001b[0mself\u001b[0m\u001b[0;34m.\u001b[0m\u001b[0moptions\u001b[0m\u001b[0;34m[\u001b[0m\u001b[0;34m\"has_index_names\"\u001b[0m\u001b[0;34m]\u001b[0m \u001b[0;34m=\u001b[0m \u001b[0mkwds\u001b[0m\u001b[0;34m[\u001b[0m\u001b[0;34m\"has_index_names\"\u001b[0m\u001b[0;34m]\u001b[0m\u001b[0;34m\u001b[0m\u001b[0;34m\u001b[0m\u001b[0m\n\u001b[1;32m    894\u001b[0m \u001b[0;34m\u001b[0m\u001b[0m\n\u001b[0;32m--> 895\u001b[0;31m         \u001b[0mself\u001b[0m\u001b[0;34m.\u001b[0m\u001b[0m_make_engine\u001b[0m\u001b[0;34m(\u001b[0m\u001b[0mself\u001b[0m\u001b[0;34m.\u001b[0m\u001b[0mengine\u001b[0m\u001b[0;34m)\u001b[0m\u001b[0;34m\u001b[0m\u001b[0;34m\u001b[0m\u001b[0m\n\u001b[0m\u001b[1;32m    896\u001b[0m \u001b[0;34m\u001b[0m\u001b[0m\n\u001b[1;32m    897\u001b[0m     \u001b[0;32mdef\u001b[0m \u001b[0mclose\u001b[0m\u001b[0;34m(\u001b[0m\u001b[0mself\u001b[0m\u001b[0;34m)\u001b[0m\u001b[0;34m:\u001b[0m\u001b[0;34m\u001b[0m\u001b[0;34m\u001b[0m\u001b[0m\n",
            "\u001b[0;32m/usr/local/lib/python3.6/dist-packages/pandas/io/parsers.py\u001b[0m in \u001b[0;36m_make_engine\u001b[0;34m(self, engine)\u001b[0m\n\u001b[1;32m   1133\u001b[0m     \u001b[0;32mdef\u001b[0m \u001b[0m_make_engine\u001b[0m\u001b[0;34m(\u001b[0m\u001b[0mself\u001b[0m\u001b[0;34m,\u001b[0m \u001b[0mengine\u001b[0m\u001b[0;34m=\u001b[0m\u001b[0;34m\"c\"\u001b[0m\u001b[0;34m)\u001b[0m\u001b[0;34m:\u001b[0m\u001b[0;34m\u001b[0m\u001b[0;34m\u001b[0m\u001b[0m\n\u001b[1;32m   1134\u001b[0m         \u001b[0;32mif\u001b[0m \u001b[0mengine\u001b[0m \u001b[0;34m==\u001b[0m \u001b[0;34m\"c\"\u001b[0m\u001b[0;34m:\u001b[0m\u001b[0;34m\u001b[0m\u001b[0;34m\u001b[0m\u001b[0m\n\u001b[0;32m-> 1135\u001b[0;31m             \u001b[0mself\u001b[0m\u001b[0;34m.\u001b[0m\u001b[0m_engine\u001b[0m \u001b[0;34m=\u001b[0m \u001b[0mCParserWrapper\u001b[0m\u001b[0;34m(\u001b[0m\u001b[0mself\u001b[0m\u001b[0;34m.\u001b[0m\u001b[0mf\u001b[0m\u001b[0;34m,\u001b[0m \u001b[0;34m**\u001b[0m\u001b[0mself\u001b[0m\u001b[0;34m.\u001b[0m\u001b[0moptions\u001b[0m\u001b[0;34m)\u001b[0m\u001b[0;34m\u001b[0m\u001b[0;34m\u001b[0m\u001b[0m\n\u001b[0m\u001b[1;32m   1136\u001b[0m         \u001b[0;32melse\u001b[0m\u001b[0;34m:\u001b[0m\u001b[0;34m\u001b[0m\u001b[0;34m\u001b[0m\u001b[0m\n\u001b[1;32m   1137\u001b[0m             \u001b[0;32mif\u001b[0m \u001b[0mengine\u001b[0m \u001b[0;34m==\u001b[0m \u001b[0;34m\"python\"\u001b[0m\u001b[0;34m:\u001b[0m\u001b[0;34m\u001b[0m\u001b[0;34m\u001b[0m\u001b[0m\n",
            "\u001b[0;32m/usr/local/lib/python3.6/dist-packages/pandas/io/parsers.py\u001b[0m in \u001b[0;36m__init__\u001b[0;34m(self, src, **kwds)\u001b[0m\n\u001b[1;32m   1915\u001b[0m         \u001b[0mkwds\u001b[0m\u001b[0;34m[\u001b[0m\u001b[0;34m\"usecols\"\u001b[0m\u001b[0;34m]\u001b[0m \u001b[0;34m=\u001b[0m \u001b[0mself\u001b[0m\u001b[0;34m.\u001b[0m\u001b[0musecols\u001b[0m\u001b[0;34m\u001b[0m\u001b[0;34m\u001b[0m\u001b[0m\n\u001b[1;32m   1916\u001b[0m \u001b[0;34m\u001b[0m\u001b[0m\n\u001b[0;32m-> 1917\u001b[0;31m         \u001b[0mself\u001b[0m\u001b[0;34m.\u001b[0m\u001b[0m_reader\u001b[0m \u001b[0;34m=\u001b[0m \u001b[0mparsers\u001b[0m\u001b[0;34m.\u001b[0m\u001b[0mTextReader\u001b[0m\u001b[0;34m(\u001b[0m\u001b[0msrc\u001b[0m\u001b[0;34m,\u001b[0m \u001b[0;34m**\u001b[0m\u001b[0mkwds\u001b[0m\u001b[0;34m)\u001b[0m\u001b[0;34m\u001b[0m\u001b[0;34m\u001b[0m\u001b[0m\n\u001b[0m\u001b[1;32m   1918\u001b[0m         \u001b[0mself\u001b[0m\u001b[0;34m.\u001b[0m\u001b[0munnamed_cols\u001b[0m \u001b[0;34m=\u001b[0m \u001b[0mself\u001b[0m\u001b[0;34m.\u001b[0m\u001b[0m_reader\u001b[0m\u001b[0;34m.\u001b[0m\u001b[0munnamed_cols\u001b[0m\u001b[0;34m\u001b[0m\u001b[0;34m\u001b[0m\u001b[0m\n\u001b[1;32m   1919\u001b[0m \u001b[0;34m\u001b[0m\u001b[0m\n",
            "\u001b[0;32mpandas/_libs/parsers.pyx\u001b[0m in \u001b[0;36mpandas._libs.parsers.TextReader.__cinit__\u001b[0;34m()\u001b[0m\n",
            "\u001b[0;32mpandas/_libs/parsers.pyx\u001b[0m in \u001b[0;36mpandas._libs.parsers.TextReader._setup_parser_source\u001b[0;34m()\u001b[0m\n",
            "\u001b[0;31mFileNotFoundError\u001b[0m: [Errno 2] File b'/content/drive/My Drive/Perfume Dataset/export_csv.csv' does not exist: b'/content/drive/My Drive/Perfume Dataset/export_csv.csv'"
          ]
        }
      ]
    },
    {
      "cell_type": "code",
      "metadata": {
        "id": "q7OavWoeO9fU",
        "colab_type": "code",
        "colab": {}
      },
      "source": [
        ""
      ],
      "execution_count": 0,
      "outputs": []
    }
  ]
}